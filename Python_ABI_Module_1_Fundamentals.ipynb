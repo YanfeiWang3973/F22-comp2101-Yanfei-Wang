{
  "nbformat": 4,
  "nbformat_minor": 0,
  "metadata": {
    "colab": {
      "provenance": [],
      "collapsed_sections": [
        "fpTYeZP_3Mwi",
        "ELs1JwO16mue",
        "dOubnFRpNFim",
        "0U3JGHXoNFel",
        "u0rWNDDC4Ljq",
        "mBiU3IeZGzeK",
        "viD2-lKBJDD4",
        "sVY73eBp3dt_"
      ],
      "include_colab_link": true
    },
    "kernelspec": {
      "name": "python3",
      "display_name": "Python 3"
    },
    "language_info": {
      "name": "python"
    }
  },
  "cells": [
    {
      "cell_type": "markdown",
      "metadata": {
        "id": "view-in-github",
        "colab_type": "text"
      },
      "source": [
        "<a href=\"https://colab.research.google.com/github/YanfeiWang3973/F22-comp2101-Yanfei-Wang/blob/main/Python_ABI_Module_1_Fundamentals.ipynb\" target=\"_parent\"><img src=\"https://colab.research.google.com/assets/colab-badge.svg\" alt=\"Open In Colab\"/></a>"
      ]
    },
    {
      "cell_type": "markdown",
      "source": [
        "<img src='https://cdn.ourcodeworld.com/public-media/articles/articleocw-5c65fbda1ea05.jpg' width='750'>\n",
        "\n",
        "# What is Python and Why are we Learning it?\n",
        "\n",
        "Python is a general purpose programming language developed in 1991 (31 years old). It was originally developed to be easier to use than other popular languages at the time (C, ABC, etc.). At the time, Python was mainly being used for web development.\n",
        "\n",
        "It wasn't until the late 2000's, with the addition of the NumPy and Pandas Libraries (think of them like add-ons), that the dominant focus of Python shifted to data analysis. In the 2010's, Python became the dominant programming language for machine learning, with the releases of TensorFlow (Google) and PyTorch (Facebook). The top reasons to learn Python are:\n",
        "\n",
        "1. It is easy to learn compared to other programming languages (huge community on StackOverflow, other sites).\n",
        "2. It has hundreds of thousands of open source libraries (think add-ons) that do almost anything you can think of (mapping, machine learning, statistics, image processing, etc.)\n",
        "3. It is a popular requirement on data jobs\n",
        "\n",
        "Today, Python rivals R as a powerful, flexible data analysis programming language. It is often chosen over other tools for the following reasons:\n",
        "- Python vs R: Machine learning, better integration with other software\n",
        "- Python vs Excel: Easier to repeat analysis steps, automate tasks\n",
        "- Python vs Power BI/Tableau: Open source, more advanced calculations, dirty data\n",
        "- Python vs SQL: Python can connect directly to databases but is often used in combination with SQL\n",
        "\n",
        "<img src='https://res.cloudinary.com/dyd911kmh/image/upload/f_auto,q_auto:best/v1603200011/Technologies_gesmfa.png' width='750'>\n",
        "\n",
        "Although Python is considered the [most popular](https://www.tiobe.com/tiobe-index/) general purpose programming language, it is not the best at any one thing. It is, however, second/third best at most things, and often the easiest option. That's what makes it a very good language to learn - it is truly a swiss army knife (developed by a Dutchman).\n",
        "\n",
        "# Reasons NOT to use Python\n",
        "- You're doing a simple, one-time analysis that can be done in a spreadsheet (Excel)\n",
        "- You need to develop an interactive dashboard (Power BI/Tableau)\n",
        "- Your dataset is already pretty 'clean'\n",
        "- You don't like programming and willing to learn advanced Excel, Power BI\n",
        "- You prefer R (many people with math/statistics background prefer R)\n",
        "- You are writing software that needs to run FAST (Scala, C)\n",
        "- You are writing front end web software (JavaScript)\n",
        "---"
      ],
      "metadata": {
        "id": "PDNcB_viariM"
      }
    },
    {
      "cell_type": "markdown",
      "source": [
        "# How to Take this Course\n",
        "\n",
        "In this course, we will be learning programming and data analysis. These subjects involve theory and practice. The ABI program focuses on PRACTICE.\n",
        "- Save a copy of this Notebook in your Drive\n",
        "- Write and edit code in your Notebook\n",
        "- Ask as many questions as you have (this is an intro course, there are NO dumb questions)\n",
        "- Bring your own problems and ask questions on how to approach them (data analysis problem at work or school)\n",
        "\n",
        "If you do not do these things, you will not retain much from this course. [Studies have shown](https://www.psychotactics.com/art-retain-learning/) that you retain:\n",
        "\n",
        "- 75% of what you learn through practice\n",
        "- 50% of what you learn through discussion with others\n",
        "- 30% of what you learn through a demonstration\n",
        "- 10% of what you learn from reading\n",
        "- 5% of what you learn from a lecture\n",
        "\n",
        "### Recommendations\n",
        "\n",
        "* Learning Python requires context. **Experiment** with your creativity when learning it and use any search engine (Google, Bing, etc.) to explore the concept further with different examples.\n",
        "\n",
        "* **Practice** makes perfect. When exploring a programming concept, try to test it with different approaches to understand what works and what does not and why it does so.\n",
        "\n",
        "* Do not be afraid to **test the limits**. You can create a backup copy of this file and if anything goes wrong, you can always use the backup copy.\n",
        "\n",
        "\n",
        "## Do you want to retain 75% of this course or 30%? The choice is yours.\n",
        "\n",
        "---\n",
        "\n"
      ],
      "metadata": {
        "id": "UDzeBIH9ifKk"
      }
    },
    {
      "cell_type": "markdown",
      "source": [
        "# About the Instructor\n",
        "<img src='https://media-exp1.licdn.com/dms/image/C4E03AQFw4DW_prq49A/profile-displayphoto-shrink_400_400/0/1601347224531?e=1671062400&v=beta&t=sYLT4xhP4TOGLqDe29sQdv4RL7B3jrl04mmtDptQR54' width=200>\n",
        "\n",
        "- MSc from Delft University of Technology (2016), BASc from UWaterloo (2014)\n",
        "- Worked in consulting, government, big corporations, tech\n",
        "- Industries: civil and environmental, retail, and construction\n",
        "- First programming language was VBA (2009), then Matlab (2010), then Python (2017)\n",
        "- Used Python for: Data Analysis, Dashboards, Machine Learning, Data Processing, Data visualization\n",
        "- Intermediate/Advanced level in Python\n",
        "- Currently using Python for data analysis and developing data apps\n",
        "---"
      ],
      "metadata": {
        "id": "IrkxAOnS4rij"
      }
    },
    {
      "cell_type": "markdown",
      "source": [
        "# Syllabus\n",
        "\n",
        "## Module 1 - Fundamentals\n",
        "- Jupyter Notebooks\n",
        "- Variables\n",
        "- Data Types\n",
        "- Switching Data Types (Casting)\n",
        "- Arithmetic Operators\n",
        "- Comparison Operators\n",
        "- Lists\n",
        "- Dictionaries\n",
        "- Conditionals (If-statements)\n",
        "- Loops\n",
        "- Functions\n",
        "- Libraries\n",
        "\n",
        "## Module 2 - Data Analysis\n",
        "- NumPy\n",
        "- Pandas\n",
        "- Data cleaning\n",
        "- Plotting\n",
        "\n",
        "## Module 3 - Case Study - Traffic Analysis\n",
        "- Data Analysis Process\n",
        "- Importing data\n",
        "- Cleaning data\n",
        "- Defining metrics\n",
        "- Generalizing analysis\n",
        "- Sharing results\n"
      ],
      "metadata": {
        "id": "C-mc1mZai1dG"
      }
    },
    {
      "cell_type": "markdown",
      "source": [
        "# Intro to Jupyter/Colab Notebook (how this interface works)\n",
        "\n",
        "This document that you're currently reading is called a \"Jupyter Notebook\" or \"Colab Notebook\" (since we it is hosted on Google Colab). It's similar to a text document, but you can do many things with it:\n",
        "\n",
        "- Run code\n",
        "- Show graphs\n",
        "- Pull data from various databases\n",
        "- Include HTML/Markdown content (text, images, links)\n",
        "\n",
        "Jupyter Notebook is made up of modular units called cells that you can add, edit, delete and move up/down.\n",
        "\n",
        "Cells can contain different types of contents, but we will mainly be working with two types:\n",
        "\n",
        "- Code cells: you can type in Python code into these cells and run them for the output\n",
        "- Markdown cells: you can insert HTML/Markdown content (text, images, links) to provide context and content to your notebook"
      ],
      "metadata": {
        "id": "uUxdzJDNBE-6"
      }
    },
    {
      "cell_type": "markdown",
      "source": [
        "When you double click the cell it will open an edit mode.\n",
        "\n",
        "Once you've made the changes, you have to \"run\" the cell to display the changes.\n",
        "\n",
        "There are many keyboard shortcuts that will let you interact with your documents, run code and make other changes. For example, there are two shortcuts to execute a cell:\n",
        "\n",
        "shift + return: Run cell and advance to the next one"
      ],
      "metadata": {
        "id": "A0ZosF4SCXRc"
      }
    },
    {
      "cell_type": "markdown",
      "source": [
        "## Make a copy of this Notebook\n",
        "This Notebook is meant to be interactive. There will be exercises and questions to answer by writing code into the Notebook cells. It will not allow you to save changes, because it is owned by the instructor. Therefore, you must create your own copy of the Notebook to save your changes.\n",
        "\n",
        "1. Under \"File\", click \"Save a Copy in Drive\".\n",
        "2. Open that copy and go through the rest of this session."
      ],
      "metadata": {
        "id": "TeHL-ucikNFO"
      }
    },
    {
      "cell_type": "code",
      "source": [
        "# Change the text inside the quotes to your name,\n",
        "# then hit the PLAY button on the left to run the code\n",
        "print('Yahia')"
      ],
      "metadata": {
        "colab": {
          "base_uri": "https://localhost:8080/"
        },
        "id": "BfaqFVCui65n",
        "outputId": "486054b2-bca5-43fd-cb6f-2673658efbe0"
      },
      "execution_count": null,
      "outputs": [
        {
          "output_type": "stream",
          "name": "stdout",
          "text": [
            "Yahia\n"
          ]
        }
      ]
    },
    {
      "cell_type": "markdown",
      "source": [
        "## Important notes"
      ],
      "metadata": {
        "id": "wuMUqQmbTWFa"
      }
    },
    {
      "cell_type": "markdown",
      "source": [
        "\n",
        "\n",
        "*   Jupyter notebook cells have a shared memory within a notebook. If you are running a piece of code \"B\", that depends on another piece of code \"A\", make sure to run Cell A first.\n",
        "*   Lines of code that start with the hash symbol (#) will be ignored by the Python interpreter (they are meant to be comments)\n",
        "\n",
        "*   Once you come across an error, try to understand what may have caused the error. You can always rely on search engines to help you out, even in the workplace!\n",
        "\n"
      ],
      "metadata": {
        "id": "335w6rF3TbzI"
      }
    },
    {
      "cell_type": "markdown",
      "source": [
        "## Understanding errors"
      ],
      "metadata": {
        "id": "A6Ng-JpcUtiF"
      }
    },
    {
      "cell_type": "markdown",
      "source": [
        "Programming is a life full of bugs and errors that you have to learn how to navigate around if you want to excel at it. There is no perfect code and even if a code runs, there is always a chance of the wrong logic being implemented. \n",
        "\n",
        "Understanding errors will make your learning process smoother and quicker as well as help you debug issues that you may face while coding. If it is an error that you have never faced before, search engines and community websites like [GitHub](https://www.github.com) and [Stackoverflow](https://www.stackoverflow.com) are your best bets at resolving it.\n",
        "\n",
        "**In Google Colab, there's a \"SEARCH STACK OVERFLOW\" button on every error message! Super cool!**"
      ],
      "metadata": {
        "id": "u-2oJOHDUwjO"
      }
    },
    {
      "cell_type": "code",
      "source": [
        "# Example: variable not defined error\n",
        "print(f)"
      ],
      "metadata": {
        "colab": {
          "base_uri": "https://localhost:8080/",
          "height": 189
        },
        "id": "7Bcnqi4pVZ93",
        "outputId": "bac88713-526a-4f01-bac5-6951eeb8b46f"
      },
      "execution_count": null,
      "outputs": [
        {
          "output_type": "error",
          "ename": "NameError",
          "evalue": "ignored",
          "traceback": [
            "\u001b[0;31m---------------------------------------------------------------------------\u001b[0m",
            "\u001b[0;31mNameError\u001b[0m                                 Traceback (most recent call last)",
            "\u001b[0;32m<ipython-input-64-a88e47db1ca2>\u001b[0m in \u001b[0;36m<module>\u001b[0;34m()\u001b[0m\n\u001b[1;32m      1\u001b[0m \u001b[0;31m# Example: variable not defined error\u001b[0m\u001b[0;34m\u001b[0m\u001b[0;34m\u001b[0m\u001b[0;34m\u001b[0m\u001b[0m\n\u001b[0;32m----> 2\u001b[0;31m \u001b[0mprint\u001b[0m\u001b[0;34m(\u001b[0m\u001b[0mf\u001b[0m\u001b[0;34m)\u001b[0m\u001b[0;34m\u001b[0m\u001b[0;34m\u001b[0m\u001b[0m\n\u001b[0m",
            "\u001b[0;31mNameError\u001b[0m: name 'f' is not defined"
          ]
        }
      ]
    },
    {
      "cell_type": "markdown",
      "source": [
        "# Python Fundamentals\n",
        "\n",
        "Python is an interpreted, dynamically typed programming language. This means:\n",
        "- Interpreted: One line of code is run at a time\n",
        "- Dynamically typed: Python figures out what kind of data you're working with (numbers, text, etc.)\n",
        "\n",
        "We're going to start with treating Python like a simple calculator and adding more and more complexity as we go through this session."
      ],
      "metadata": {
        "id": "eYh6ElYttGiN"
      }
    },
    {
      "cell_type": "code",
      "source": [
        "# Simple math\n",
        "5+7"
      ],
      "metadata": {
        "id": "IK8G3muytFDs",
        "colab": {
          "base_uri": "https://localhost:8080/"
        },
        "outputId": "286c62e6-2a89-4c9d-9c5b-dc0ede3423b6"
      },
      "execution_count": null,
      "outputs": [
        {
          "output_type": "execute_result",
          "data": {
            "text/plain": [
              "12"
            ]
          },
          "metadata": {},
          "execution_count": 67
        }
      ]
    },
    {
      "cell_type": "code",
      "source": [
        "# Slightly more complicated\n",
        "10 * (2+3) - 3 / (27**3) + 3"
      ],
      "metadata": {
        "colab": {
          "base_uri": "https://localhost:8080/"
        },
        "id": "HuPdWzYelifm",
        "outputId": "0b3ad487-c23f-4ec8-8263-4b1ef9a7e078"
      },
      "execution_count": null,
      "outputs": [
        {
          "output_type": "execute_result",
          "data": {
            "text/plain": [
              "52.999847584209725"
            ]
          },
          "metadata": {},
          "execution_count": 70
        }
      ]
    },
    {
      "cell_type": "code",
      "source": [
        "# Symbolic math\n",
        "x = 6\n",
        "y = 4\n",
        "\n",
        "x + y"
      ],
      "metadata": {
        "colab": {
          "base_uri": "https://localhost:8080/"
        },
        "id": "xrsOYpaLmyr3",
        "outputId": "755ef485-9ad7-4788-b753-2170f33ffd23"
      },
      "execution_count": null,
      "outputs": [
        {
          "output_type": "execute_result",
          "data": {
            "text/plain": [
              "10"
            ]
          },
          "metadata": {},
          "execution_count": 72
        }
      ]
    },
    {
      "cell_type": "code",
      "source": [
        "print(6*5)\n",
        "print(10*10)"
      ],
      "metadata": {
        "colab": {
          "base_uri": "https://localhost:8080/"
        },
        "id": "qDNVuovu_afy",
        "outputId": "149803ae-48eb-4638-bfc0-1df4e6b1bdf6"
      },
      "execution_count": null,
      "outputs": [
        {
          "output_type": "stream",
          "name": "stdout",
          "text": [
            "30\n",
            "100\n"
          ]
        }
      ]
    },
    {
      "cell_type": "code",
      "source": [
        "6*5\n",
        "10*10"
      ],
      "metadata": {
        "colab": {
          "base_uri": "https://localhost:8080/"
        },
        "id": "dYbHWY75_qGF",
        "outputId": "c7d90156-810d-4aaf-e60c-0e589c49bfe3"
      },
      "execution_count": null,
      "outputs": [
        {
          "output_type": "execute_result",
          "data": {
            "text/plain": [
              "100"
            ]
          },
          "metadata": {},
          "execution_count": 77
        }
      ]
    },
    {
      "cell_type": "markdown",
      "source": [
        "**Question**"
      ],
      "metadata": {
        "id": "voJewC58n46l"
      }
    },
    {
      "cell_type": "code",
      "source": [
        "# What's the formula for weight in kilograms?\n",
        "\n",
        "weight_in_lb = 100\n",
        "factor = \n",
        "\n",
        "weight_in_kg = \n",
        "print(weight_in_kg)"
      ],
      "metadata": {
        "id": "v77y4Mzgns4w"
      },
      "execution_count": null,
      "outputs": []
    },
    {
      "cell_type": "code",
      "source": [
        "weight_in_lb = 100\n",
        "factor = 0.453592\n",
        "\n",
        "weight_in_kg = weight_in_lb * factor\n",
        "print(weight_in_kg, \"kg\")\n"
      ],
      "metadata": {
        "colab": {
          "base_uri": "https://localhost:8080/"
        },
        "id": "nwtIMuNkAZzO",
        "outputId": "1a2effd1-4a22-41d1-d0a1-e55629be4477"
      },
      "execution_count": null,
      "outputs": [
        {
          "output_type": "stream",
          "name": "stdout",
          "text": [
            "45.3592 kg\n"
          ]
        }
      ]
    },
    {
      "cell_type": "code",
      "source": [
        "weight_in_lb = 100\n",
        "factor = 0.453592\n",
        "\n",
        "weight_in_kg = round(weight_in_lb * factor)\n",
        "print(weight_in_kg, \"kg\")\n"
      ],
      "metadata": {
        "colab": {
          "base_uri": "https://localhost:8080/"
        },
        "id": "-5oxzS0CA9Sg",
        "outputId": "b2a5397e-84ec-4601-ebd6-dc26f8968547"
      },
      "execution_count": null,
      "outputs": [
        {
          "output_type": "stream",
          "name": "stdout",
          "text": [
            "45 kg\n"
          ]
        }
      ]
    },
    {
      "cell_type": "code",
      "source": [
        "weight_in_lb = 100\n",
        "factor = 0.453592\n",
        "\n",
        "weight_in_kg = weight_in_lb * factor\n",
        "print(round(weight_in_kg), \"kg\")\n"
      ],
      "metadata": {
        "colab": {
          "base_uri": "https://localhost:8080/"
        },
        "id": "sHDUJLFoBjv8",
        "outputId": "f28b2a6f-8458-4240-e596-b01b267225c6"
      },
      "execution_count": null,
      "outputs": [
        {
          "output_type": "stream",
          "name": "stdout",
          "text": [
            "45 kg\n"
          ]
        }
      ]
    },
    {
      "cell_type": "markdown",
      "source": [
        "These are commonly used terms in Python:\n",
        "\n",
        "* **Data**: Information stored and used by a computer to perform operations\n",
        "\n",
        "* **Jupyter notebook**: This document editor you are currently using  \n",
        "\n",
        "* **Python**: The programming language you are currently learning  \n",
        "\n",
        "* **Syntax**: The structure of a code when written\n",
        "\n",
        "* **Code**: Pieces of the programming language that tell the computer what to do with the data   \n",
        "\n",
        "* **Value**: Same as data   \n",
        "\n",
        "* **Input**: Entry data   \n",
        "\n",
        "* **Output**: Resultant data produced by a piece of code   \n",
        "\n",
        "* **Console**: The interface display of Python   \n",
        "\n",
        "***\n"
      ],
      "metadata": {
        "id": "9UL89ojdsk0i"
      }
    },
    {
      "cell_type": "markdown",
      "source": [
        "You can use the print function to display the output of a code in Python.\n"
      ],
      "metadata": {
        "id": "Cu4WXqJEhmes"
      }
    },
    {
      "cell_type": "code",
      "source": [
        "print(6)\n",
        "print(1+2)\n",
        "print(\"Hello World\")\n",
        "print(\"Hello World\")\n",
        "\n",
        "\"number\"\n",
        "\"hat\"\n",
        "\"dog\""
      ],
      "metadata": {
        "colab": {
          "base_uri": "https://localhost:8080/",
          "height": 108
        },
        "id": "bzGN_ePOht7z",
        "outputId": "a5a0c006-e1af-44f3-fdee-d3b337d74ae4"
      },
      "execution_count": null,
      "outputs": [
        {
          "output_type": "stream",
          "name": "stdout",
          "text": [
            "6\n",
            "3\n",
            "Hello World\n",
            "Hello World\n"
          ]
        },
        {
          "output_type": "execute_result",
          "data": {
            "text/plain": [
              "'dog'"
            ],
            "application/vnd.google.colaboratory.intrinsic+json": {
              "type": "string"
            }
          },
          "metadata": {},
          "execution_count": 88
        }
      ]
    },
    {
      "cell_type": "markdown",
      "source": [
        "Jupyter notebook will automatically output the result of the last line of code."
      ],
      "metadata": {
        "id": "QLVIIx7rh3yP"
      }
    },
    {
      "cell_type": "code",
      "source": [
        "3+3  # gets ignored\n",
        "print(7)\n",
        "1+2"
      ],
      "metadata": {
        "colab": {
          "base_uri": "https://localhost:8080/"
        },
        "id": "CLhqheKIhiu0",
        "outputId": "a75d9dee-bc7d-4285-f641-ac4a3d9ae783"
      },
      "execution_count": null,
      "outputs": [
        {
          "output_type": "stream",
          "name": "stdout",
          "text": [
            "7\n"
          ]
        },
        {
          "output_type": "execute_result",
          "data": {
            "text/plain": [
              "3"
            ]
          },
          "metadata": {},
          "execution_count": 15
        }
      ]
    },
    {
      "cell_type": "markdown",
      "source": [
        "You can put comments in the code block to provide context or to skip execution of a line of code.\n",
        "\n",
        "Comments begin with a hash (#) symbol. Anything written after it on the same line will be ignored by Python\n"
      ],
      "metadata": {
        "id": "qCCIVNMl6ebw"
      }
    },
    {
      "cell_type": "code",
      "source": [
        "# Testing comments - Run this cell\n",
        "\n",
        "# print('This is a comment, it will not be run')\n",
        "print('This is not a comment, it will be run') # inline comment print('ah')"
      ],
      "metadata": {
        "colab": {
          "base_uri": "https://localhost:8080/"
        },
        "id": "DlNgjIN57R04",
        "outputId": "21536b79-3323-44c9-86fe-5103ded63d73"
      },
      "execution_count": null,
      "outputs": [
        {
          "output_type": "stream",
          "name": "stdout",
          "text": [
            "This is not a comment, it will be run\n"
          ]
        }
      ]
    },
    {
      "cell_type": "markdown",
      "source": [
        "In python, you can assign a data value to a variable using the equals (=) operator. During an assignment operation, the contents on the right side of the equals (=) sign is evaluated first, followed by the assignment of the value to the variable on the left."
      ],
      "metadata": {
        "id": "mJflm2X-i5r5"
      }
    },
    {
      "cell_type": "code",
      "source": [
        "5"
      ],
      "metadata": {
        "colab": {
          "base_uri": "https://localhost:8080/"
        },
        "id": "yHT6lcUPD1KO",
        "outputId": "f6c82c91-87c0-4fb7-a215-59507623756b"
      },
      "execution_count": null,
      "outputs": [
        {
          "output_type": "execute_result",
          "data": {
            "text/plain": [
              "5"
            ]
          },
          "metadata": {},
          "execution_count": 89
        }
      ]
    },
    {
      "cell_type": "code",
      "source": [
        "# Testing value assignment\n",
        "x = 5\n",
        "print(x)"
      ],
      "metadata": {
        "colab": {
          "base_uri": "https://localhost:8080/"
        },
        "id": "FnBOnclfjTpb",
        "outputId": "12b4f0dd-637a-4b49-8d3c-23faa9660901"
      },
      "execution_count": null,
      "outputs": [
        {
          "output_type": "stream",
          "name": "stdout",
          "text": [
            "5\n"
          ]
        }
      ]
    },
    {
      "cell_type": "markdown",
      "source": [
        "In the code above, Python evaluates the value 5 on the right side first and then assigns the variable x with the evaluated value of 5."
      ],
      "metadata": {
        "id": "VnE598SbsG-i"
      }
    },
    {
      "cell_type": "markdown",
      "source": [
        "## Variables\n",
        "***"
      ],
      "metadata": {
        "id": "GzYERLLYsGRm"
      }
    },
    {
      "cell_type": "markdown",
      "source": [
        "In programming, variables are like nicknames for information that give context and convenience. For example:\n",
        "\n",
        "Nick's age is 5. How would we program that?\n",
        "\n",
        "```\n",
        "age_of_nick = 5\n",
        "```\n",
        "\n",
        "Today's date is July 20th. How would we program that?\n",
        "\n",
        "```\n",
        "todays_date = '20-Jul-2022'\n",
        "```"
      ],
      "metadata": {
        "id": "fCSnzVRxiVjy"
      }
    },
    {
      "cell_type": "markdown",
      "source": [
        "There is no specific command in Python to define a variable. It is created when a value is assigned to it"
      ],
      "metadata": {
        "id": "QlEUYJCinz6f"
      }
    },
    {
      "cell_type": "code",
      "source": [
        "# Variable assignment\n",
        "\n",
        "a = 10\n",
        "x = 15.5\n",
        "y = 'abc'\n",
        "z = True"
      ],
      "metadata": {
        "id": "fdMszxkin9hb"
      },
      "execution_count": null,
      "outputs": []
    },
    {
      "cell_type": "markdown",
      "source": [
        "When you use the [print()](https://www.w3schools.com/python/ref_func_print.asp) command on the variable, it prints out the data value it stores."
      ],
      "metadata": {
        "id": "Y5iVW-7VoMvl"
      }
    },
    {
      "cell_type": "code",
      "source": [
        "# Printing variables\n",
        "\n",
        "print(a)\n",
        "print(x)\n",
        "print(y)\n",
        "print(z)"
      ],
      "metadata": {
        "colab": {
          "base_uri": "https://localhost:8080/"
        },
        "id": "RZCALtoeoFU5",
        "outputId": "4a32a993-c40a-4743-ca56-0a5e57a52aa8"
      },
      "execution_count": null,
      "outputs": [
        {
          "output_type": "stream",
          "name": "stdout",
          "text": [
            "10\n",
            "15.5\n",
            "abc\n",
            "True\n"
          ]
        }
      ]
    },
    {
      "cell_type": "markdown",
      "source": [
        "Python variables do not need to be specified to contain any specific type of data, but takes on the data type of the value assigned to it. The data type of a variable can even be changed after it has been assigned. The [type()](https://www.w3schools.com/python/ref_func_type.asp) function can be used to check the data type of variables"
      ],
      "metadata": {
        "id": "Rt81DMI9n81D"
      }
    },
    {
      "cell_type": "code",
      "source": [
        "# Printing variable types\n",
        "\n",
        "print(type(a))\n",
        "print(type(x))\n",
        "print(type(y))\n",
        "print(type(z))"
      ],
      "metadata": {
        "colab": {
          "base_uri": "https://localhost:8080/"
        },
        "id": "vA9AzzOwpDP5",
        "outputId": "f4f21ca7-4654-4419-bdf5-8754cdd7062b"
      },
      "execution_count": null,
      "outputs": [
        {
          "output_type": "stream",
          "name": "stdout",
          "text": [
            "<class 'int'>\n",
            "<class 'float'>\n",
            "<class 'str'>\n",
            "<class 'bool'>\n"
          ]
        }
      ]
    },
    {
      "cell_type": "code",
      "source": [
        "type(z)"
      ],
      "metadata": {
        "colab": {
          "base_uri": "https://localhost:8080/"
        },
        "id": "rQpB54QaHH4v",
        "outputId": "6f94327a-ed81-4924-f334-193512502923"
      },
      "execution_count": null,
      "outputs": [
        {
          "output_type": "execute_result",
          "data": {
            "text/plain": [
              "bool"
            ]
          },
          "metadata": {},
          "execution_count": 5
        }
      ]
    },
    {
      "cell_type": "markdown",
      "source": [
        "Variables can have different combinations of user defined names. Variables are mostly defined to describe the value they contain. There are certain rules to naming variables:\n",
        "\n",
        "\n",
        "*   Must start with a letter or the underscore character\n",
        "*   Cannot start with a number\n",
        "*   Can only contain alphanumeric characters and underscores (A-Z, 0-9, _)\n",
        "*   Are case sensitive\n",
        "\n"
      ],
      "metadata": {
        "id": "BP94QaQwp6PV"
      }
    },
    {
      "cell_type": "markdown",
      "source": [
        "Allowed examples:"
      ],
      "metadata": {
        "id": "Ufo5wqS7rWp1"
      }
    },
    {
      "cell_type": "code",
      "source": [
        "# Assigning legal variables\n",
        "\n",
        "model = 'Honda'\n",
        "Model = 'Mazda'\n",
        "model_EU = 'Ferrari'\n",
        "_model_NA2 = 'GMC'\n",
        "MODEL = 'Tesla'"
      ],
      "metadata": {
        "id": "-o-sGZRsqleh"
      },
      "execution_count": null,
      "outputs": []
    },
    {
      "cell_type": "code",
      "source": [
        "# Printing legal variables\n",
        "\n",
        "print(model)\n",
        "print(Model)\n",
        "print(model_EU)\n",
        "print(_model_NA2)\n",
        "print(MODEL)"
      ],
      "metadata": {
        "colab": {
          "base_uri": "https://localhost:8080/"
        },
        "id": "niXGVYoIqlb7",
        "outputId": "582be767-dd4b-42db-d87b-11cdc3f30a8d"
      },
      "execution_count": null,
      "outputs": [
        {
          "output_type": "stream",
          "name": "stdout",
          "text": [
            "Honda\n",
            "Mazda\n",
            "Ferrari\n",
            "GMC\n",
            "Tesla\n"
          ]
        }
      ]
    },
    {
      "cell_type": "markdown",
      "source": [
        "Wrong examples:"
      ],
      "metadata": {
        "id": "uzMhpoaurZYL"
      }
    },
    {
      "cell_type": "code",
      "source": [
        "# Try to assign an illegal variable\n",
        "\n",
        "2model = 'Buick'"
      ],
      "metadata": {
        "id": "l8qXsEmlrfbL",
        "colab": {
          "base_uri": "https://localhost:8080/",
          "height": 134
        },
        "outputId": "c1314dca-b377-4c99-97d7-2b7f2d1c6ed5"
      },
      "execution_count": null,
      "outputs": [
        {
          "output_type": "error",
          "ename": "SyntaxError",
          "evalue": "ignored",
          "traceback": [
            "\u001b[0;36m  File \u001b[0;32m\"<ipython-input-6-ccde7cc5fdd0>\"\u001b[0;36m, line \u001b[0;32m3\u001b[0m\n\u001b[0;31m    2model = 'Buick'\u001b[0m\n\u001b[0m         ^\u001b[0m\n\u001b[0;31mSyntaxError\u001b[0m\u001b[0;31m:\u001b[0m invalid syntax\n"
          ]
        }
      ]
    },
    {
      "cell_type": "code",
      "source": [
        "# Try to assign an illegal variable\n",
        "\n",
        "model-NA = 'Ford'"
      ],
      "metadata": {
        "id": "3FyRSk6drx9D",
        "colab": {
          "base_uri": "https://localhost:8080/",
          "height": 134
        },
        "outputId": "42abc4cd-6e00-48b6-afb0-20353797ab33"
      },
      "execution_count": null,
      "outputs": [
        {
          "output_type": "error",
          "ename": "SyntaxError",
          "evalue": "ignored",
          "traceback": [
            "\u001b[0;36m  File \u001b[0;32m\"<ipython-input-7-0544c8c9d34d>\"\u001b[0;36m, line \u001b[0;32m3\u001b[0m\n\u001b[0;31m    model-NA = 'Ford'\u001b[0m\n\u001b[0m                     ^\u001b[0m\n\u001b[0;31mSyntaxError\u001b[0m\u001b[0;31m:\u001b[0m can't assign to operator\n"
          ]
        }
      ]
    },
    {
      "cell_type": "code",
      "source": [
        "# Try to assign an illegal variable\n",
        "\n",
        "model SEA = 'Nissan'"
      ],
      "metadata": {
        "id": "XV2KUEEvryqY",
        "colab": {
          "base_uri": "https://localhost:8080/",
          "height": 134
        },
        "outputId": "e89bf3d0-e912-4b87-a782-ff74bc0834c4"
      },
      "execution_count": null,
      "outputs": [
        {
          "output_type": "error",
          "ename": "SyntaxError",
          "evalue": "ignored",
          "traceback": [
            "\u001b[0;36m  File \u001b[0;32m\"<ipython-input-8-afa3e95ab892>\"\u001b[0;36m, line \u001b[0;32m3\u001b[0m\n\u001b[0;31m    model SEA = 'Nissan'\u001b[0m\n\u001b[0m            ^\u001b[0m\n\u001b[0;31mSyntaxError\u001b[0m\u001b[0;31m:\u001b[0m invalid syntax\n"
          ]
        }
      ]
    },
    {
      "cell_type": "markdown",
      "source": [
        "**Practice - Assigning variables**\n",
        "\n",
        "Assign the following data values to relevant variables and print them using Python. The first one has been shown as an example.\n",
        "\n",
        "\n",
        "*   Canada\n",
        "*   Ontario\n",
        "*   Toronto\n",
        "*   M5B1T3\n",
        "*   6475884206"
      ],
      "metadata": {
        "id": "xZQDB--qsFAI"
      }
    },
    {
      "cell_type": "code",
      "source": [
        "country = 'Canada'\n",
        "print(country)\n",
        "\n",
        "#Your code here --\n",
        "\n",
        "\n",
        "\n"
      ],
      "metadata": {
        "id": "iPtrE9NltS-M",
        "colab": {
          "base_uri": "https://localhost:8080/"
        },
        "outputId": "cfd81a99-0657-4aeb-818d-38309b4fc5f2"
      },
      "execution_count": null,
      "outputs": [
        {
          "output_type": "stream",
          "name": "stdout",
          "text": [
            "Canada\n",
            "Ontario\n",
            "Toronto\n",
            "M5B1T3\n",
            "6475884206\n",
            "Ontario\n",
            "Toronto\n",
            "Zip code\n",
            "Phone Number\n"
          ]
        }
      ]
    },
    {
      "cell_type": "markdown",
      "source": [
        "## Data types"
      ],
      "metadata": {
        "id": "xlGSGcrusPjb"
      }
    },
    {
      "cell_type": "markdown",
      "source": [
        "So far you have seen variables store different kinds of information (numbers, text, True/False). These all represent different ***data types***.\n",
        "\n",
        "Data types are a core component of any programming language. Data values can be of different types and have different uses. Since variables store data values, they take on the data type of the assigned values as seen in the example before."
      ],
      "metadata": {
        "id": "WsYdj-73to1C"
      }
    },
    {
      "cell_type": "markdown",
      "source": [
        "Python has different built-in data types but the most commonly used ones are:\n",
        "\n",
        "* Text:      `str`\n",
        "* Number:    `int`, `float`\n",
        "* Sequence:  `list`,`tuple`,`range`\n",
        "* Dictionary:   `dict`\n",
        "* Set:       `set`\n",
        "* Boolean:   `bool`\n",
        "* None:      `None`\n",
        "\n",
        "We will explore these data types later"
      ],
      "metadata": {
        "id": "gXbcUSl5t6TJ"
      }
    },
    {
      "cell_type": "code",
      "source": [
        "# Assigning different types of data to variables\n",
        "\n",
        "text_test = 'This is a string'\n",
        "num_test = 123456\n",
        "seq_test = [1,2,3,'abc', True]  # list\n",
        "dict_test = {'Fruit': 'Apple', 'Color': 'Red', 'Price': 3.65}\n",
        "set_test = {'chocolate', 'maple', 'coffee'}  # skip\n",
        "bool_test = False  # true or false\n",
        "none_test = None"
      ],
      "metadata": {
        "id": "W9gEyPiCtoNV"
      },
      "execution_count": null,
      "outputs": []
    },
    {
      "cell_type": "markdown",
      "source": [
        "**String** type data is assigned by wrapping the data with single quotes, double quotes or triple quotes. This data type is used to store text data."
      ],
      "metadata": {
        "id": "GI4ootxi8zge"
      }
    },
    {
      "cell_type": "code",
      "source": [
        "# Printing string variable data and type\n",
        "\n",
        "print(text_test)\n",
        "print(type(text_test))"
      ],
      "metadata": {
        "colab": {
          "base_uri": "https://localhost:8080/"
        },
        "id": "pWeQqP-QwNbR",
        "outputId": "2d84fc2b-c54a-48ab-aa95-b563e5a317ae"
      },
      "execution_count": null,
      "outputs": [
        {
          "output_type": "stream",
          "name": "stdout",
          "text": [
            "This is a string\n",
            "<class 'str'>\n"
          ]
        }
      ]
    },
    {
      "cell_type": "markdown",
      "source": [
        "**Numeric** type data can be decimals, whole numbers and complex numbers. We will focus on decimals and whole numbers. This data type is used to store numeric data. "
      ],
      "metadata": {
        "id": "6DdLlLvd89_d"
      }
    },
    {
      "cell_type": "code",
      "source": [
        "# Printing numeric variable data and type\n",
        "\n",
        "print(num_test)\n",
        "print(type(num_test))"
      ],
      "metadata": {
        "colab": {
          "base_uri": "https://localhost:8080/"
        },
        "id": "xXFpPjAtwNWY",
        "outputId": "2cc19bb8-4fd5-4c23-eefc-9546b4b19dba"
      },
      "execution_count": null,
      "outputs": [
        {
          "output_type": "stream",
          "name": "stdout",
          "text": [
            "123456\n",
            "<class 'int'>\n"
          ]
        }
      ]
    },
    {
      "cell_type": "markdown",
      "source": [
        "**Sequence** type data stores multiple data values in a sequence. The contained data values can be any of the valid data types of Python. This data type is used to store data values with a sequential index."
      ],
      "metadata": {
        "id": "AT_m-O9r-BAk"
      }
    },
    {
      "cell_type": "code",
      "source": [
        "# Printing sequence variable data and type \n",
        "\n",
        "print(seq_test)\n",
        "print(type(seq_test))"
      ],
      "metadata": {
        "colab": {
          "base_uri": "https://localhost:8080/"
        },
        "id": "uVq2J2qVwNSE",
        "outputId": "2b10ff1b-663b-42e8-8230-9269e8288e36"
      },
      "execution_count": null,
      "outputs": [
        {
          "output_type": "stream",
          "name": "stdout",
          "text": [
            "[1, 2, 3, 'abc', True]\n",
            "<class 'list'>\n"
          ]
        }
      ]
    },
    {
      "cell_type": "code",
      "source": [
        "# see section on lists"
      ],
      "metadata": {
        "id": "4O_hkUrfPD_-"
      },
      "execution_count": null,
      "outputs": []
    },
    {
      "cell_type": "markdown",
      "source": [
        "**Dictionary** type data can store multiple values with a user defined index. This data type is used to store values with an index and are stored as key:value pairs."
      ],
      "metadata": {
        "id": "i7NoytOEB781"
      }
    },
    {
      "cell_type": "code",
      "source": [
        "# Printing dict variable data and type \n",
        "print(dict_test)\n",
        "print(type(dict_test))"
      ],
      "metadata": {
        "colab": {
          "base_uri": "https://localhost:8080/"
        },
        "id": "okVt-FhawNIT",
        "outputId": "651b3c88-85b3-40d0-c638-d9daa107b80b"
      },
      "execution_count": null,
      "outputs": [
        {
          "output_type": "stream",
          "name": "stdout",
          "text": [
            "{'Fruit': 'Apple', 'Color': 'Red', 'Price': 3.65}\n",
            "<class 'dict'>\n"
          ]
        }
      ]
    },
    {
      "cell_type": "markdown",
      "source": [
        "**Set** type data can store multiple unique values. They are used to store multiple unique data values."
      ],
      "metadata": {
        "id": "v8Es5lhwCzro"
      }
    },
    {
      "cell_type": "code",
      "source": [
        "# Printing set variable data and type \n",
        "print(set_test)\n",
        "print(type(set_test))"
      ],
      "metadata": {
        "colab": {
          "base_uri": "https://localhost:8080/"
        },
        "id": "_vFK_8SAwfHa",
        "outputId": "34bf3911-a613-4e47-fd79-35e6e1dad8c6"
      },
      "execution_count": null,
      "outputs": [
        {
          "output_type": "stream",
          "name": "stdout",
          "text": [
            "{'chocolate', 'maple', 'coffee'}\n",
            "<class 'set'>\n"
          ]
        }
      ]
    },
    {
      "cell_type": "markdown",
      "source": [
        "**Boolean** type data can store only two values in duality. This data type is used to store data with only two possible values. \n",
        "\n",
        "Eg: True/False, 0/1"
      ],
      "metadata": {
        "id": "f2fMTVOBEJRw"
      }
    },
    {
      "cell_type": "code",
      "source": [
        "# Printing boolean variable data and type \n",
        "\n",
        "print(bool_test)\n",
        "print(type(bool_test))"
      ],
      "metadata": {
        "colab": {
          "base_uri": "https://localhost:8080/"
        },
        "id": "G5fCy4zXwE7y",
        "outputId": "4a23114d-c706-457b-c416-80d6e4c19958"
      },
      "execution_count": null,
      "outputs": [
        {
          "output_type": "stream",
          "name": "stdout",
          "text": [
            "False\n",
            "<class 'bool'>\n"
          ]
        }
      ]
    },
    {
      "cell_type": "markdown",
      "source": [
        "**None** data type stores no value. It is the Python equivalent for the null data where no data is present. Note that text data, including a whitespace (pressing space bar), is considered a string data type and is not a None data type. We did not use quotes to define the None type.\n",
        "\n",
        "None data type is the data type of a variable which has been defined but does not contain any value."
      ],
      "metadata": {
        "id": "jAX0v_H_w0__"
      }
    },
    {
      "cell_type": "code",
      "source": [
        "# Printing none variable data and type\n",
        "\n",
        "print(none_test)\n",
        "print(type(none_test))"
      ],
      "metadata": {
        "colab": {
          "base_uri": "https://localhost:8080/"
        },
        "id": "yPehjWwEGGyz",
        "outputId": "dc10c5e5-9ef0-4581-8146-eecee88d9b1a"
      },
      "execution_count": null,
      "outputs": [
        {
          "output_type": "stream",
          "name": "stdout",
          "text": [
            "None\n",
            "<class 'NoneType'>\n"
          ]
        }
      ]
    },
    {
      "cell_type": "markdown",
      "source": [
        "## Number types"
      ],
      "metadata": {
        "id": "zoC-CKJntIo3"
      }
    },
    {
      "cell_type": "markdown",
      "source": [
        "We will focus on two different numeric types:\n",
        "\n",
        "* int = whole numbers, positive or negative, without decimals\n",
        " * Example: 1, 10, 44, 256\n",
        "\n",
        "* float = floating point numbers, positive or negative, with decimals\n",
        " * Example: 1.4, 52.53, 764.6343"
      ],
      "metadata": {
        "id": "FCz42FFzNPAL"
      }
    },
    {
      "cell_type": "code",
      "source": [
        "# Testing int data type\n",
        "\n",
        "x = 1123\n",
        "\n",
        "print(x)\n",
        "type(x)"
      ],
      "metadata": {
        "colab": {
          "base_uri": "https://localhost:8080/"
        },
        "id": "FvJjlbmfcabx",
        "outputId": "074c8cfe-c7fc-4d0e-fdaf-58315ac816c2"
      },
      "execution_count": null,
      "outputs": [
        {
          "output_type": "stream",
          "name": "stdout",
          "text": [
            "1123\n"
          ]
        },
        {
          "output_type": "execute_result",
          "data": {
            "text/plain": [
              "int"
            ]
          },
          "metadata": {},
          "execution_count": 12
        }
      ]
    },
    {
      "cell_type": "code",
      "source": [
        "# Testing float data type\n",
        "\n",
        "x = 121.123\n",
        "\n",
        "print(x)\n",
        "type(x)"
      ],
      "metadata": {
        "colab": {
          "base_uri": "https://localhost:8080/"
        },
        "id": "UN_9nzxMce_O",
        "outputId": "fc5219a0-50e3-4c8e-a5bf-0a33bc3a09ae"
      },
      "execution_count": null,
      "outputs": [
        {
          "output_type": "stream",
          "name": "stdout",
          "text": [
            "121.123\n"
          ]
        },
        {
          "output_type": "execute_result",
          "data": {
            "text/plain": [
              "float"
            ]
          },
          "metadata": {},
          "execution_count": 13
        }
      ]
    },
    {
      "cell_type": "code",
      "source": [
        "x = 123.0\n",
        "\n",
        "print(x)\n",
        "type(x)"
      ],
      "metadata": {
        "colab": {
          "base_uri": "https://localhost:8080/"
        },
        "id": "wytk_avyQn-j",
        "outputId": "e6205623-b24c-450b-f47e-292d4c31819f"
      },
      "execution_count": null,
      "outputs": [
        {
          "output_type": "stream",
          "name": "stdout",
          "text": [
            "123.0\n"
          ]
        },
        {
          "output_type": "execute_result",
          "data": {
            "text/plain": [
              "float"
            ]
          },
          "metadata": {},
          "execution_count": 14
        }
      ]
    },
    {
      "cell_type": "markdown",
      "source": [
        "## Strings"
      ],
      "metadata": {
        "id": "Hsn2FdZHcnmV"
      }
    },
    {
      "cell_type": "markdown",
      "source": [
        "String is a data type that can store any data value as a text. They are defined by placing the data value within a single quote, double quote or triple quote depending on the scenario"
      ],
      "metadata": {
        "id": "9yQ17Bz7c1bi"
      }
    },
    {
      "cell_type": "markdown",
      "source": [
        "Regardless of which quotes you use, the resultant value will be the same"
      ],
      "metadata": {
        "id": "OMCG3FJ7dT-z"
      }
    },
    {
      "cell_type": "code",
      "source": [
        "# Single quote test\n",
        "\n",
        "a = 'This is a string'\n",
        "print(a)\n",
        "type(a)"
      ],
      "metadata": {
        "colab": {
          "base_uri": "https://localhost:8080/"
        },
        "id": "wPyuLEQ3cnAy",
        "outputId": "61409dcc-3317-47a2-c70a-34c71264a6db"
      },
      "execution_count": null,
      "outputs": [
        {
          "output_type": "stream",
          "name": "stdout",
          "text": [
            "This is a string\n"
          ]
        },
        {
          "output_type": "execute_result",
          "data": {
            "text/plain": [
              "str"
            ]
          },
          "metadata": {},
          "execution_count": 15
        }
      ]
    },
    {
      "cell_type": "code",
      "source": [
        "# Double quote test\n",
        "\n",
        "a = \"This is a string\"\n",
        "print(a)\n",
        "type(a)"
      ],
      "metadata": {
        "colab": {
          "base_uri": "https://localhost:8080/"
        },
        "id": "KNNHBnZmdgGb",
        "outputId": "a083ee88-d5c4-4e5c-9de6-9aacbf72ac3d"
      },
      "execution_count": null,
      "outputs": [
        {
          "output_type": "stream",
          "name": "stdout",
          "text": [
            "This is a string\n"
          ]
        },
        {
          "output_type": "execute_result",
          "data": {
            "text/plain": [
              "str"
            ]
          },
          "metadata": {},
          "execution_count": 16
        }
      ]
    },
    {
      "cell_type": "code",
      "source": [
        "# Triple single quote test\n",
        "\n",
        "a = '''This is a string'''\n",
        "print(a)\n",
        "type(a)"
      ],
      "metadata": {
        "colab": {
          "base_uri": "https://localhost:8080/"
        },
        "id": "JZk9z7Xcdl9c",
        "outputId": "59c46dec-180e-4d65-9ba1-fafeef04dc4b"
      },
      "execution_count": null,
      "outputs": [
        {
          "output_type": "stream",
          "name": "stdout",
          "text": [
            "This is a string\n"
          ]
        },
        {
          "output_type": "execute_result",
          "data": {
            "text/plain": [
              "str"
            ]
          },
          "metadata": {},
          "execution_count": 17
        }
      ]
    },
    {
      "cell_type": "markdown",
      "source": [
        "### Where to use different quotes"
      ],
      "metadata": {
        "id": "FZvPcfmFd_nN"
      }
    },
    {
      "cell_type": "markdown",
      "source": [
        "**Single quotes**: Can be used anywhere as long as there is no apostrophe in the sentence."
      ],
      "metadata": {
        "id": "w7-v6sHbdwhZ"
      }
    },
    {
      "cell_type": "code",
      "source": [
        "# Testing single quote\n",
        "\n",
        "test = 'This string has no apostrophes'\n",
        "print(test)"
      ],
      "metadata": {
        "colab": {
          "base_uri": "https://localhost:8080/"
        },
        "id": "8J9flxlgeBXk",
        "outputId": "00bc9074-1ab2-4831-b998-d376dd2ff9ea"
      },
      "execution_count": null,
      "outputs": [
        {
          "output_type": "stream",
          "name": "stdout",
          "text": [
            "This string has no apostrophes\n"
          ]
        }
      ]
    },
    {
      "cell_type": "code",
      "source": [
        "# Testing error scenario\n",
        "\n",
        "test2 = 'This string isn't valid with single quotes'\n",
        "print(test2)"
      ],
      "metadata": {
        "colab": {
          "base_uri": "https://localhost:8080/",
          "height": 134
        },
        "id": "JCw7n3yMeZ3F",
        "outputId": "7f015405-c74f-443c-fe7c-b4bdc8359897"
      },
      "execution_count": null,
      "outputs": [
        {
          "output_type": "error",
          "ename": "SyntaxError",
          "evalue": "ignored",
          "traceback": [
            "\u001b[0;36m  File \u001b[0;32m\"<ipython-input-19-c140b59f537b>\"\u001b[0;36m, line \u001b[0;32m3\u001b[0m\n\u001b[0;31m    test2 = 'This string isn't valid with single quotes'\u001b[0m\n\u001b[0m                             ^\u001b[0m\n\u001b[0;31mSyntaxError\u001b[0m\u001b[0;31m:\u001b[0m invalid syntax\n"
          ]
        }
      ]
    },
    {
      "cell_type": "markdown",
      "source": [
        "**Double quotes**: Can be used anywhere, even with apostrophes but no double quotations"
      ],
      "metadata": {
        "id": "2geDr0SGeVAA"
      }
    },
    {
      "cell_type": "code",
      "source": [
        "# Testing double quotes\n",
        "\n",
        "test = \"This string isn't going to throw an error\"\n",
        "print(test)"
      ],
      "metadata": {
        "colab": {
          "base_uri": "https://localhost:8080/"
        },
        "id": "rPNduesBept5",
        "outputId": "7b545e6f-cb5e-4f1b-bade-21b218457e97"
      },
      "execution_count": null,
      "outputs": [
        {
          "output_type": "stream",
          "name": "stdout",
          "text": [
            "This string isn't going to throw an error\n"
          ]
        }
      ]
    },
    {
      "cell_type": "code",
      "source": [
        "# Testing error scenario\n",
        "\n",
        "test2 = \"I said, \"This string isn't valid with double quotations\"\"\n",
        "print(test)"
      ],
      "metadata": {
        "colab": {
          "base_uri": "https://localhost:8080/",
          "height": 134
        },
        "id": "Z4KUdMI1ex9W",
        "outputId": "a3ac9935-ad5e-40f4-b16f-d7bf06327453"
      },
      "execution_count": null,
      "outputs": [
        {
          "output_type": "error",
          "ename": "SyntaxError",
          "evalue": "ignored",
          "traceback": [
            "\u001b[0;36m  File \u001b[0;32m\"<ipython-input-21-d30faf13be5e>\"\u001b[0;36m, line \u001b[0;32m3\u001b[0m\n\u001b[0;31m    test2 = \"I said, \"This string isn't valid with double quotations\"\"\u001b[0m\n\u001b[0m                         ^\u001b[0m\n\u001b[0;31mSyntaxError\u001b[0m\u001b[0;31m:\u001b[0m invalid syntax\n"
          ]
        }
      ]
    },
    {
      "cell_type": "markdown",
      "source": [
        "**Triple quotes**: Can be used anywhere, even with apostrophes or double quotes. Can also be used for multiline strings."
      ],
      "metadata": {
        "id": "w6IoHdCpe_YE"
      }
    },
    {
      "cell_type": "code",
      "source": [
        "# Testing triple quotes\n",
        "\n",
        "test1 = '''\"This string isn't going to throw an error\", I said'''\n",
        "print(test1)"
      ],
      "metadata": {
        "colab": {
          "base_uri": "https://localhost:8080/"
        },
        "id": "xA99p3pJfHnG",
        "outputId": "192bb019-1422-4824-9f7b-c5eb51c7e4c6"
      },
      "execution_count": null,
      "outputs": [
        {
          "output_type": "stream",
          "name": "stdout",
          "text": [
            "\"This string isn't going to throw an error\", I said\n"
          ]
        }
      ]
    },
    {
      "cell_type": "code",
      "source": [
        "# Testing triple quotes with multiline string\n",
        "\n",
        "test2 = '''\"My dog stepped on a bee\",\n",
        "she said.'''\n",
        "\n",
        "print(test2)\n",
        "\n",
        "# Notice how the line break occurs according to how you have defined it in the value"
      ],
      "metadata": {
        "colab": {
          "base_uri": "https://localhost:8080/"
        },
        "id": "GOa9ntWVfS46",
        "outputId": "d2ad4bac-9cff-4d40-acce-889833e3fad6"
      },
      "execution_count": null,
      "outputs": [
        {
          "output_type": "stream",
          "name": "stdout",
          "text": [
            "\"My dog stepped on a bee\",\n",
            "she said.\n"
          ]
        }
      ]
    },
    {
      "cell_type": "code",
      "source": [
        "# Testing triple double quotes with multiline string\n",
        "\n",
        "test3 = \"\"\"\"My dog stepped on a bee\",\n",
        "she said.\"\"\"\n",
        "print(test3)"
      ],
      "metadata": {
        "colab": {
          "base_uri": "https://localhost:8080/"
        },
        "id": "2gN4M5gxftzy",
        "outputId": "fc2481a8-9aed-45a9-9288-e12506b4185d"
      },
      "execution_count": null,
      "outputs": [
        {
          "output_type": "stream",
          "name": "stdout",
          "text": [
            "\"My dog stepped on a bee\",\n",
            "she said.\n"
          ]
        }
      ]
    },
    {
      "cell_type": "markdown",
      "source": [
        "**Practice** (Optional)\n",
        "\n",
        "Assign the following values to appropriate variables as string and print them:\n",
        "\n",
        "\n",
        "\n",
        "*   The weather today was hot\n",
        "*   'The weather today was hot', he said\n",
        "* \"The weather's hot today\", she said\n",
        "* 30 (Temperature value)\n",
        "\n"
      ],
      "metadata": {
        "id": "I9Kw1ehfgYbi"
      }
    },
    {
      "cell_type": "code",
      "source": [
        "# Write your code here\n",
        "\n",
        "x='The weather today was hot'\n",
        "y=\"'The weather today was hot', he said\"\n",
        "z='''\"\"The weather's hot today\", she said\"'''\n",
        "a='30 (Temperature value)'\n",
        "print(x)\n",
        "print(type(x))\n",
        "print(y)\n",
        "print(type(y))\n",
        "print(z)\n",
        "print(type(z))\n",
        "print(a)\n",
        "print(type(a))"
      ],
      "metadata": {
        "id": "JklYZS_KseLb",
        "colab": {
          "base_uri": "https://localhost:8080/"
        },
        "outputId": "2def094b-62c5-489b-9a8e-13d128e15238"
      },
      "execution_count": null,
      "outputs": [
        {
          "output_type": "stream",
          "name": "stdout",
          "text": [
            "The weather today was hot\n",
            "<class 'str'>\n",
            "'The weather\n",
            "today was hot', he said\n",
            "<class 'str'>\n",
            "\"\"The weather's hot today\", she said\"\n",
            "<class 'str'>\n",
            "30 (Temperature value)\n",
            "<class 'str'>\n"
          ]
        }
      ]
    },
    {
      "cell_type": "markdown",
      "source": [
        "## Switching Data Types"
      ],
      "metadata": {
        "id": "lQ1ng0FBtLl5"
      }
    },
    {
      "cell_type": "markdown",
      "source": [
        "You may need to change the data types of variables depending on the requirement. For example, a price value might be stored as a text data type during entry but for calculations, you would need it to be in a numeric data type.\n",
        "\n",
        "In Python, you can use **casting** to change the data type. Casting is performed by wrapping the data variable/value you want to change with the target data type casting function."
      ],
      "metadata": {
        "id": "IYMX9EXIHIwf"
      }
    },
    {
      "cell_type": "code",
      "source": [
        "# Casting to string changes a given value to a text data type\n",
        "\n",
        "test = 123\n",
        "string_test = str(test)\n",
        "\n",
        "print(string_test)\n",
        "print(type(string_test))\n"
      ],
      "metadata": {
        "colab": {
          "base_uri": "https://localhost:8080/"
        },
        "id": "RnpJFkSgIbMI",
        "outputId": "428a21ef-42c6-4ded-de03-973d5250e6b7"
      },
      "execution_count": null,
      "outputs": [
        {
          "output_type": "stream",
          "name": "stdout",
          "text": [
            "123\n",
            "<class 'str'>\n"
          ]
        }
      ]
    },
    {
      "cell_type": "code",
      "source": [
        "# Casting to integer changes any given number to a whole number. \n",
        "# If the given number has decimal values, the decimals will be removed\n",
        "# Strings can be converted to integers given that the string only contains whole numbers\n",
        "\n",
        "test = '123'\n",
        "int_test = int(test)\n",
        "\n",
        "print(int_test)\n",
        "print(type(int_test))\n"
      ],
      "metadata": {
        "colab": {
          "base_uri": "https://localhost:8080/"
        },
        "id": "hfb3PJplIx-B",
        "outputId": "b56812f7-a594-4fc0-de42-bb8629c7fb8c"
      },
      "execution_count": null,
      "outputs": [
        {
          "output_type": "stream",
          "name": "stdout",
          "text": [
            "123\n",
            "<class 'int'>\n"
          ]
        }
      ]
    },
    {
      "cell_type": "code",
      "source": [
        "# Casting to float changes any given number to a float number.\n",
        "# Note that a float number is different from a decimal number.\n",
        "# Float numbers store approximate values. Use case includes scientific measurements.\n",
        "# Decimal numbers store exact values. Use case includes monetary values.\n",
        "\n",
        "test = '65.3'\n",
        "float_test = float(test)\n",
        "\n",
        "print(float_test)\n",
        "print(type(float_test))"
      ],
      "metadata": {
        "colab": {
          "base_uri": "https://localhost:8080/"
        },
        "id": "sKuFi7c_pIvb",
        "outputId": "f7306da8-635c-4d08-d246-05fbdbf66db9"
      },
      "execution_count": null,
      "outputs": [
        {
          "output_type": "stream",
          "name": "stdout",
          "text": [
            "65.3\n",
            "<class 'float'>\n"
          ]
        }
      ]
    },
    {
      "cell_type": "code",
      "source": [
        "# Why would I go from an integer to a float?\n",
        "age = 5\n",
        "\n",
        "half_my_age = age / 2\n",
        "\n",
        "print(half_my_age)"
      ],
      "metadata": {
        "colab": {
          "base_uri": "https://localhost:8080/"
        },
        "id": "B0EloZKITVgI",
        "outputId": "34332b20-563c-4575-c48b-d7e005b11ad4"
      },
      "execution_count": null,
      "outputs": [
        {
          "output_type": "stream",
          "name": "stdout",
          "text": [
            "2.5\n"
          ]
        }
      ]
    },
    {
      "cell_type": "markdown",
      "source": [
        "## Operators"
      ],
      "metadata": {
        "id": "QTaQMDQZ9bHG"
      }
    },
    {
      "cell_type": "markdown",
      "source": [
        "Operators are characters or words reserved by Python to perform a specific operation between variables and values. Operators and operands work together to produce a result value.\n"
      ],
      "metadata": {
        "id": "wLCNQesf9pvg"
      }
    },
    {
      "cell_type": "markdown",
      "source": [
        "## Arithmetic Operators"
      ],
      "metadata": {
        "id": "9kCFvb_-10rd"
      }
    },
    {
      "cell_type": "markdown",
      "source": [
        "| Operators   | Description |\n",
        "| ----------- | ----------- |\n",
        "| +           | Sum         |\n",
        "| -           | Difference  |\n",
        "| *           | Product     |\n",
        "| /           | Division    |\n",
        "| %           | Remainder   |\n",
        "| **          | Power       |\n",
        "| //          | Floor division |"
      ],
      "metadata": {
        "id": "4tz1vooh12Oz"
      }
    },
    {
      "cell_type": "markdown",
      "source": [
        "### Sum"
      ],
      "metadata": {
        "id": "RpWaFHPr78BO"
      }
    },
    {
      "cell_type": "code",
      "source": [
        "x = 4\n",
        "y = 5\n",
        "\n",
        "x + y"
      ],
      "metadata": {
        "colab": {
          "base_uri": "https://localhost:8080/"
        },
        "id": "XzI72OHw79_A",
        "outputId": "4da44e90-5e9a-40be-aaea-b67456173a20"
      },
      "execution_count": null,
      "outputs": [
        {
          "output_type": "execute_result",
          "data": {
            "text/plain": [
              "9"
            ]
          },
          "metadata": {},
          "execution_count": 41
        }
      ]
    },
    {
      "cell_type": "markdown",
      "source": [
        "### Difference"
      ],
      "metadata": {
        "id": "vDXB7RmQ8D-Y"
      }
    },
    {
      "cell_type": "code",
      "source": [
        "x = 16\n",
        "y = 8\n",
        "\n",
        "x - y"
      ],
      "metadata": {
        "colab": {
          "base_uri": "https://localhost:8080/"
        },
        "id": "oQTDYvGX8DHq",
        "outputId": "793fa9eb-7748-4657-c04d-156ae914ec8e"
      },
      "execution_count": null,
      "outputs": [
        {
          "output_type": "execute_result",
          "data": {
            "text/plain": [
              "8"
            ]
          },
          "metadata": {},
          "execution_count": 42
        }
      ]
    },
    {
      "cell_type": "markdown",
      "source": [
        "### Product"
      ],
      "metadata": {
        "id": "Vd1PF7Ow8MR2"
      }
    },
    {
      "cell_type": "code",
      "source": [
        "x = 4\n",
        "y = 5\n",
        "\n",
        "x * y"
      ],
      "metadata": {
        "colab": {
          "base_uri": "https://localhost:8080/"
        },
        "id": "utc4BwX_8NI_",
        "outputId": "b9728054-8944-4d19-cd50-6364e888a864"
      },
      "execution_count": null,
      "outputs": [
        {
          "output_type": "execute_result",
          "data": {
            "text/plain": [
              "20"
            ]
          },
          "metadata": {},
          "execution_count": 43
        }
      ]
    },
    {
      "cell_type": "markdown",
      "source": [
        "### Division"
      ],
      "metadata": {
        "id": "Dr5dJ9HU8Nn2"
      }
    },
    {
      "cell_type": "code",
      "source": [
        "x = 15\n",
        "y = 4\n",
        "\n",
        "x / y"
      ],
      "metadata": {
        "colab": {
          "base_uri": "https://localhost:8080/"
        },
        "id": "ig1KJA_P8N-C",
        "outputId": "d45e6e3f-6cde-41f3-8dd9-00b6b587626b"
      },
      "execution_count": null,
      "outputs": [
        {
          "output_type": "execute_result",
          "data": {
            "text/plain": [
              "3.75"
            ]
          },
          "metadata": {},
          "execution_count": 44
        }
      ]
    },
    {
      "cell_type": "markdown",
      "source": [
        "### Remainder"
      ],
      "metadata": {
        "id": "8emg8V-p8XxQ"
      }
    },
    {
      "cell_type": "code",
      "source": [
        "x = 9\n",
        "y = 2\n",
        "\n",
        "x % y"
      ],
      "metadata": {
        "colab": {
          "base_uri": "https://localhost:8080/"
        },
        "id": "MZcu6as18gl5",
        "outputId": "a143a6ea-de44-40e9-fb8e-960fa266df18"
      },
      "execution_count": null,
      "outputs": [
        {
          "output_type": "execute_result",
          "data": {
            "text/plain": [
              "1"
            ]
          },
          "metadata": {},
          "execution_count": 45
        }
      ]
    },
    {
      "cell_type": "markdown",
      "source": [
        "### Power"
      ],
      "metadata": {
        "id": "ibO6tF3m8074"
      }
    },
    {
      "cell_type": "code",
      "source": [
        "x = 4\n",
        "y = 2\n",
        "\n",
        "x ** y"
      ],
      "metadata": {
        "colab": {
          "base_uri": "https://localhost:8080/"
        },
        "id": "EM0m2q0O82By",
        "outputId": "3d22550c-800d-4f87-9ae9-29dd4c4943b2"
      },
      "execution_count": null,
      "outputs": [
        {
          "output_type": "execute_result",
          "data": {
            "text/plain": [
              "16"
            ]
          },
          "metadata": {},
          "execution_count": 46
        }
      ]
    },
    {
      "cell_type": "markdown",
      "source": [
        "### Floor division"
      ],
      "metadata": {
        "id": "9uUQbwOz842s"
      }
    },
    {
      "cell_type": "code",
      "source": [
        "x = 15\n",
        "y = 4\n",
        "\n",
        "print(x / y)\n",
        "print(x // y)"
      ],
      "metadata": {
        "colab": {
          "base_uri": "https://localhost:8080/"
        },
        "id": "pcivIRfK86RG",
        "outputId": "86facbd0-0ccc-4652-b298-e94ac1602add"
      },
      "execution_count": null,
      "outputs": [
        {
          "output_type": "stream",
          "name": "stdout",
          "text": [
            "3.75\n",
            "3\n"
          ]
        }
      ]
    },
    {
      "cell_type": "markdown",
      "source": [
        "## Assignment Operators"
      ],
      "metadata": {
        "id": "fpTYeZP_3Mwi"
      }
    },
    {
      "cell_type": "markdown",
      "source": [
        "| Operators   | Example     | Equivalency |\n",
        "| ----------- | ----------- |------------ | \n",
        "| =           | x = 5       | x = 5       |\n",
        "| +=          | x += 5      | x = x + 5   | \n",
        "| -=          | x -= 5      | x = x - 5   |\n",
        "| *=          | x *= 5      | x = x * 5   |\n",
        "| /           | x /= 5      | x = x / 5   |\n",
        "| %           | x //= 5     | x = x // 5  |\n",
        "| **          | x **= 5     | x = x ** 5  |"
      ],
      "metadata": {
        "id": "r6ADwqJM3b5U"
      }
    },
    {
      "cell_type": "markdown",
      "source": [
        "## Comparison operators"
      ],
      "metadata": {
        "id": "ZCO2U27y5BwM"
      }
    },
    {
      "cell_type": "markdown",
      "source": [
        "| Operators   | Name     | Example |\n",
        "| ----------- | ----------- |------------ | \n",
        "| ==           | Equal      | x == y       |\n",
        "| !=          | Not equal      | x != y  | \n",
        "| >          | Greater than      | x > y   |\n",
        "| <          | Less than      | x < y   |\n",
        "| >=           | Greater than or equal to      | x >= y   |\n",
        "| <=          | Less than or equal to    | x <= y  |"
      ],
      "metadata": {
        "id": "E5xF5gFB5Esf"
      }
    },
    {
      "cell_type": "code",
      "source": [
        "3 >= 4"
      ],
      "metadata": {
        "colab": {
          "base_uri": "https://localhost:8080/"
        },
        "id": "HREo42LWt6Kd",
        "outputId": "711f1f74-56b4-4524-d2c8-dc1275ffab83"
      },
      "execution_count": null,
      "outputs": [
        {
          "output_type": "execute_result",
          "data": {
            "text/plain": [
              "False"
            ]
          },
          "metadata": {},
          "execution_count": 52
        }
      ]
    },
    {
      "cell_type": "code",
      "source": [
        "10 == 5*2"
      ],
      "metadata": {
        "colab": {
          "base_uri": "https://localhost:8080/"
        },
        "id": "6RMXAD7St74p",
        "outputId": "c97644f5-e5cf-4d8b-d2a1-286cc4da75e8"
      },
      "execution_count": null,
      "outputs": [
        {
          "output_type": "execute_result",
          "data": {
            "text/plain": [
              "True"
            ]
          },
          "metadata": {},
          "execution_count": 54
        }
      ]
    },
    {
      "cell_type": "code",
      "source": [
        "30 > 0"
      ],
      "metadata": {
        "colab": {
          "base_uri": "https://localhost:8080/"
        },
        "id": "n41_Gzgjt_EP",
        "outputId": "153a79ee-36c9-477f-dfdc-c68cb78b95bf"
      },
      "execution_count": null,
      "outputs": [
        {
          "output_type": "execute_result",
          "data": {
            "text/plain": [
              "True"
            ]
          },
          "metadata": {},
          "execution_count": 55
        }
      ]
    },
    {
      "cell_type": "code",
      "source": [
        "# 'hat' is NOT the same type as 3\n",
        "type('hat') != type(3)"
      ],
      "metadata": {
        "colab": {
          "base_uri": "https://localhost:8080/"
        },
        "id": "hv-sUKbvuBUT",
        "outputId": "308ce290-7325-4aef-902c-75c41fb2ca5a"
      },
      "execution_count": null,
      "outputs": [
        {
          "output_type": "execute_result",
          "data": {
            "text/plain": [
              "True"
            ]
          },
          "metadata": {},
          "execution_count": 56
        }
      ]
    },
    {
      "cell_type": "code",
      "source": [
        "type('hat') != type('cat')"
      ],
      "metadata": {
        "colab": {
          "base_uri": "https://localhost:8080/"
        },
        "id": "n9pB0Cb6V-JV",
        "outputId": "6a412af9-82fa-490c-93a1-2b09421a55d7"
      },
      "execution_count": null,
      "outputs": [
        {
          "output_type": "execute_result",
          "data": {
            "text/plain": [
              "False"
            ]
          },
          "metadata": {},
          "execution_count": 57
        }
      ]
    },
    {
      "cell_type": "markdown",
      "source": [
        "**Practice** - Write a statement that is False"
      ],
      "metadata": {
        "id": "8qH1K1DKuIrU"
      }
    },
    {
      "cell_type": "code",
      "source": [
        "# Your code here. i.e. (10 < 4)\n",
        "0  == '0'\n"
      ],
      "metadata": {
        "id": "IFkYAuBxuJ0G",
        "colab": {
          "base_uri": "https://localhost:8080/"
        },
        "outputId": "6c02dcc2-af7b-44c0-a881-99d62f409a6d"
      },
      "execution_count": null,
      "outputs": [
        {
          "output_type": "execute_result",
          "data": {
            "text/plain": [
              "False"
            ]
          },
          "metadata": {},
          "execution_count": 58
        }
      ]
    },
    {
      "cell_type": "markdown",
      "source": [
        "## Logical Operators"
      ],
      "metadata": {
        "id": "ELs1JwO16mue"
      }
    },
    {
      "cell_type": "markdown",
      "source": [
        "| Operator   | Example            | Description  |\n",
        "|---------   | ---------------    | ------------ |\n",
        "| and        | x > 1 and x < 5    |  Returns True if both statements are True |\n",
        "| or         | x > 1 or x < 5     |  Returns True if either statements are True |\n",
        "| not        | not(x > 1 or x < 5)| Returns the opposite of the result, return False if the result is True|"
      ],
      "metadata": {
        "id": "oA2wh36h69Fl"
      }
    },
    {
      "cell_type": "markdown",
      "source": [
        "## Lists"
      ],
      "metadata": {
        "id": "bfuDEu724gwc"
      }
    },
    {
      "cell_type": "markdown",
      "source": [
        "Lists are sequence data types that store multiple elements of any data type within a variable. They are created with **square brackets**."
      ],
      "metadata": {
        "id": "wzwuXnRFNNKQ"
      }
    },
    {
      "cell_type": "code",
      "source": [
        "# Example of a list\n",
        "\n",
        "list_colors = ['Red', 'Blue', 'Green', 'Black', 'White', 'Red']\n",
        "print(list_colors)\n",
        "type(list_colors)"
      ],
      "metadata": {
        "colab": {
          "base_uri": "https://localhost:8080/"
        },
        "id": "yZ2DPaK4NqgZ",
        "outputId": "bc350ff7-d4d0-42eb-df4b-3d46e31a0bcf"
      },
      "execution_count": null,
      "outputs": [
        {
          "output_type": "stream",
          "name": "stdout",
          "text": [
            "['Red', 'Blue', 'Green', 'Black', 'White', 'Red']\n"
          ]
        },
        {
          "output_type": "execute_result",
          "data": {
            "text/plain": [
              "list"
            ]
          },
          "metadata": {},
          "execution_count": 60
        }
      ]
    },
    {
      "cell_type": "markdown",
      "source": [
        "They have the following properties that discern them between the 4 data types that used to store multiple elements of data:\n",
        "\n",
        "* **Indexed**: Lists have a sequential index for each element in it starting from 0 and incrementing by 1 for each element.\n",
        "\n",
        "* **Ordered** : Lists store elements according to their index number.\n",
        "\n",
        "* **Mutable**: Elements inside a list can be changed, added or removed\n",
        "\n",
        "* **Allow duplicates**: Lists allow duplicates of any data value to be stored within the same list."
      ],
      "metadata": {
        "id": "d7WiISk2OB6d"
      }
    },
    {
      "cell_type": "code",
      "source": [
        "# Checking position of each element with a loop\n",
        "\n",
        "counter = 0\n",
        "\n",
        "for x in list_colors:\n",
        "  print(counter,x)\n",
        "  counter += 1"
      ],
      "metadata": {
        "colab": {
          "base_uri": "https://localhost:8080/"
        },
        "id": "Bu6Td8PuPdwS",
        "outputId": "2d51cb93-a6f1-4f08-ef97-8f3e45d167f2"
      },
      "execution_count": null,
      "outputs": [
        {
          "output_type": "stream",
          "name": "stdout",
          "text": [
            "0 Red\n",
            "1 Blue\n",
            "2 Green\n",
            "3 Black\n",
            "4 White\n",
            "5 Red\n"
          ]
        }
      ]
    },
    {
      "cell_type": "code",
      "source": [
        "# Checking the length of the list\n",
        "len(list_colors)"
      ],
      "metadata": {
        "colab": {
          "base_uri": "https://localhost:8080/"
        },
        "id": "kEjRGmvmPdLe",
        "outputId": "6d92e17c-c6bf-4dd5-ad8a-2c6a32d657ac"
      },
      "execution_count": null,
      "outputs": [
        {
          "output_type": "execute_result",
          "data": {
            "text/plain": [
              "6"
            ]
          },
          "metadata": {},
          "execution_count": 62
        }
      ]
    },
    {
      "cell_type": "code",
      "source": [
        "# Can contain different data types, even lists\n",
        "\n",
        "nested_list = ['Earth', 23, True, 56.5, ['Nested list', 1]]\n",
        "\n",
        "for x in nested_list:\n",
        "  print(x, ' = ',type(x))"
      ],
      "metadata": {
        "colab": {
          "base_uri": "https://localhost:8080/"
        },
        "id": "Nt2TbLqeRG8C",
        "outputId": "c3be61c7-9924-44a7-d02c-6b9f327472b8"
      },
      "execution_count": null,
      "outputs": [
        {
          "output_type": "stream",
          "name": "stdout",
          "text": [
            "Earth  =  <class 'str'>\n",
            "23  =  <class 'int'>\n",
            "True  =  <class 'bool'>\n",
            "56.5  =  <class 'float'>\n",
            "['Nested list', 1]  =  <class 'list'>\n"
          ]
        }
      ]
    },
    {
      "cell_type": "code",
      "source": [
        "# Retrieving individual element by index\n",
        "\n",
        "print(list_colors)\n",
        "\n",
        "print(list_colors[2])\n",
        "type(list_colors[2])"
      ],
      "metadata": {
        "colab": {
          "base_uri": "https://localhost:8080/"
        },
        "outputId": "27228849-5241-42d9-cf96-a016633736b4",
        "id": "gTybvfhjaapN"
      },
      "execution_count": null,
      "outputs": [
        {
          "output_type": "stream",
          "name": "stdout",
          "text": [
            "['Red', 'Blue', 'Green', 'Black', 'White', 'Red']\n",
            "Green\n"
          ]
        },
        {
          "output_type": "execute_result",
          "data": {
            "text/plain": [
              "str"
            ]
          },
          "metadata": {},
          "execution_count": 64
        }
      ]
    },
    {
      "cell_type": "code",
      "source": [
        "# Let's take the first three entries\n",
        "list_colors[0:3]"
      ],
      "metadata": {
        "colab": {
          "base_uri": "https://localhost:8080/"
        },
        "id": "VTgJsXTLvtfD",
        "outputId": "1d47ea40-837c-475d-82ce-acfd25bf7ac8"
      },
      "execution_count": null,
      "outputs": [
        {
          "output_type": "execute_result",
          "data": {
            "text/plain": [
              "['Red', 'Blue', 'Green']"
            ]
          },
          "metadata": {},
          "execution_count": 69
        }
      ]
    },
    {
      "cell_type": "code",
      "source": [
        "list_colors[3:6]"
      ],
      "metadata": {
        "colab": {
          "base_uri": "https://localhost:8080/"
        },
        "id": "7sMsNB3SX8ud",
        "outputId": "ea5abd14-5d9c-4257-f341-dd401fe3d36e"
      },
      "execution_count": null,
      "outputs": [
        {
          "output_type": "execute_result",
          "data": {
            "text/plain": [
              "['Black', 'White', 'Red']"
            ]
          },
          "metadata": {},
          "execution_count": 72
        }
      ]
    },
    {
      "cell_type": "code",
      "source": [
        "list_colors[3:len(list_colors)]"
      ],
      "metadata": {
        "colab": {
          "base_uri": "https://localhost:8080/"
        },
        "id": "bEl9dKGMYOJk",
        "outputId": "d33beb9e-a008-40d9-d2de-c8c82f6372f6"
      },
      "execution_count": null,
      "outputs": [
        {
          "output_type": "execute_result",
          "data": {
            "text/plain": [
              "['Black', 'White', 'Red']"
            ]
          },
          "metadata": {},
          "execution_count": 76
        }
      ]
    },
    {
      "cell_type": "code",
      "source": [
        "list_colors[3:]"
      ],
      "metadata": {
        "colab": {
          "base_uri": "https://localhost:8080/"
        },
        "id": "AaduySaZYXxU",
        "outputId": "ddb6b9f4-8684-4548-a0d4-95cf794bdc52"
      },
      "execution_count": null,
      "outputs": [
        {
          "output_type": "execute_result",
          "data": {
            "text/plain": [
              "['Black', 'White', 'Red']"
            ]
          },
          "metadata": {},
          "execution_count": 77
        }
      ]
    },
    {
      "cell_type": "code",
      "source": [
        "list_colors[0:6:2]"
      ],
      "metadata": {
        "colab": {
          "base_uri": "https://localhost:8080/"
        },
        "id": "qoZHT0A8YfIO",
        "outputId": "aa487d89-6867-44e5-9102-4e5d2c6ce41f"
      },
      "execution_count": null,
      "outputs": [
        {
          "output_type": "execute_result",
          "data": {
            "text/plain": [
              "['Red', 'Green', 'White']"
            ]
          },
          "metadata": {},
          "execution_count": 85
        }
      ]
    },
    {
      "cell_type": "code",
      "source": [
        "list_colors[-1:0:-1]"
      ],
      "metadata": {
        "colab": {
          "base_uri": "https://localhost:8080/"
        },
        "id": "TmcgjxXzY7Zq",
        "outputId": "183fcd3c-0415-4183-cee1-0e9ac33fff90"
      },
      "execution_count": null,
      "outputs": [
        {
          "output_type": "execute_result",
          "data": {
            "text/plain": [
              "['Red', 'White', 'Black', 'Green', 'Blue']"
            ]
          },
          "metadata": {},
          "execution_count": 89
        }
      ]
    },
    {
      "cell_type": "code",
      "source": [
        "# list_colors[6]"
      ],
      "metadata": {
        "id": "jb6THEa9YGik"
      },
      "execution_count": null,
      "outputs": []
    },
    {
      "cell_type": "markdown",
      "source": [
        "## Tuples (Optional)"
      ],
      "metadata": {
        "id": "dOubnFRpNFim"
      }
    },
    {
      "cell_type": "markdown",
      "source": [
        "Tuples are sequence data types that store multiple elements of any data type within a variable. They are created with **round brackets**."
      ],
      "metadata": {
        "id": "gotOfRbuR2Df"
      }
    },
    {
      "cell_type": "code",
      "source": [
        "# Example of a tuple\n",
        "\n",
        "tuple_colors = ('Red', 'Blue','Green','Black','White', 'Red')\n",
        "print(tuple_colors)\n",
        "type(tuple_colors)"
      ],
      "metadata": {
        "colab": {
          "base_uri": "https://localhost:8080/"
        },
        "id": "MPq5pNwrSEHb",
        "outputId": "2e62158f-bae0-473d-a6e5-ffcf68adb558"
      },
      "execution_count": null,
      "outputs": [
        {
          "output_type": "stream",
          "name": "stdout",
          "text": [
            "('Red', 'Blue', 'Green', 'Black', 'White', 'Red')\n"
          ]
        },
        {
          "output_type": "execute_result",
          "data": {
            "text/plain": [
              "tuple"
            ]
          },
          "metadata": {},
          "execution_count": 57
        }
      ]
    },
    {
      "cell_type": "markdown",
      "source": [
        "They have the following properties that discern them between the 4 data types that used to store multiple elements of data:\n",
        "\n",
        "* **Indexed**: Tuples have a sequential index for each element in it starting from 0 and incrementing by 1 for each element.\n",
        "\n",
        "* **Ordered** : Tuples store elements according to their index number.\n",
        "\n",
        "* **Immutable**: Elements inside a tuple **CANNOT** be changed\n",
        "\n",
        "* **Allow duplicates**: Tuples allow duplicates of any data value to be stored within the same list."
      ],
      "metadata": {
        "id": "KH0BggRvSYh0"
      }
    },
    {
      "cell_type": "code",
      "source": [
        "# Checking position of each element with a loop\n",
        "\n",
        "counter = 0\n",
        "\n",
        "for x in tuple_colors:\n",
        "  print(counter,x)\n",
        "  counter += 1"
      ],
      "metadata": {
        "colab": {
          "base_uri": "https://localhost:8080/"
        },
        "outputId": "182c3c13-fe24-4b6d-8274-e4eb2c3acbdc",
        "id": "wnbajyFkSYh1"
      },
      "execution_count": null,
      "outputs": [
        {
          "output_type": "stream",
          "name": "stdout",
          "text": [
            "0 Red\n",
            "1 Blue\n",
            "2 Green\n",
            "3 Black\n",
            "4 White\n",
            "5 Red\n"
          ]
        }
      ]
    },
    {
      "cell_type": "code",
      "source": [
        "# Checking the length of the tuple\n",
        "\n",
        "len(tuple_colors)"
      ],
      "metadata": {
        "colab": {
          "base_uri": "https://localhost:8080/"
        },
        "outputId": "ab272557-ebf6-40a7-ac28-d5efb1aab946",
        "id": "4IFAsUIuSYh1"
      },
      "execution_count": null,
      "outputs": [
        {
          "output_type": "execute_result",
          "data": {
            "text/plain": [
              "6"
            ]
          },
          "metadata": {},
          "execution_count": 56
        }
      ]
    },
    {
      "cell_type": "code",
      "source": [
        "# Can contain different data types, even tuples\n",
        "\n",
        "nested_tuple = ('Earth', 23, True, 56.5, ['Nested list', 1],('Tuple',2))\n",
        "\n",
        "for x in nested_tuple:\n",
        "  print(x, ' = ',type(x))"
      ],
      "metadata": {
        "colab": {
          "base_uri": "https://localhost:8080/"
        },
        "outputId": "c26895e7-aad9-462d-d5c4-b5226d509bbc",
        "id": "D8j6XS_dSYh2"
      },
      "execution_count": null,
      "outputs": [
        {
          "output_type": "stream",
          "name": "stdout",
          "text": [
            "Earth  =  <class 'str'>\n",
            "23  =  <class 'int'>\n",
            "True  =  <class 'bool'>\n",
            "56.5  =  <class 'float'>\n",
            "['Nested list', 1]  =  <class 'list'>\n",
            "('Tuple', 2)  =  <class 'tuple'>\n"
          ]
        }
      ]
    },
    {
      "cell_type": "code",
      "source": [
        "# Retrieving individual element by index\n",
        "\n",
        "print(nested_tuple[1])\n",
        "type(nested_tuple[1])"
      ],
      "metadata": {
        "colab": {
          "base_uri": "https://localhost:8080/"
        },
        "outputId": "6aee73e6-c2f7-4cd4-b91f-6a3ef02ec976",
        "id": "jS4vg-gqaTFm"
      },
      "execution_count": null,
      "outputs": [
        {
          "output_type": "stream",
          "name": "stdout",
          "text": [
            "23\n"
          ]
        },
        {
          "output_type": "execute_result",
          "data": {
            "text/plain": [
              "int"
            ]
          },
          "metadata": {},
          "execution_count": 112
        }
      ]
    },
    {
      "cell_type": "markdown",
      "source": [
        "## Sets (Optional)"
      ],
      "metadata": {
        "id": "0U3JGHXoNFel"
      }
    },
    {
      "cell_type": "markdown",
      "source": [
        "Sets are sequence data types that store multiple elements of any data type within a variable. They are created with **curly brackets**."
      ],
      "metadata": {
        "id": "qOnT8bpzTdFd"
      }
    },
    {
      "cell_type": "code",
      "source": [
        "# Example of a tuple\n",
        "\n",
        "set_colors = {'Red', 'Blue','Green','Black','White', 'Red'}\n",
        "print(set_colors)\n",
        "type(set_colors)"
      ],
      "metadata": {
        "colab": {
          "base_uri": "https://localhost:8080/"
        },
        "outputId": "bbddf580-513d-43cc-92c9-87b58998c5d7",
        "id": "IF2C7JRoTdFe"
      },
      "execution_count": null,
      "outputs": [
        {
          "output_type": "stream",
          "name": "stdout",
          "text": [
            "{'Black', 'Red', 'White', 'Blue', 'Green'}\n"
          ]
        },
        {
          "output_type": "execute_result",
          "data": {
            "text/plain": [
              "set"
            ]
          },
          "metadata": {},
          "execution_count": 61
        }
      ]
    },
    {
      "cell_type": "markdown",
      "source": [
        "They have the following properties that discern them between the 4 data types that used to store multiple elements of data:\n",
        "\n",
        "* **Not indexed**: Sets store values as a collection without any index\n",
        "\n",
        "* **Unordered** : Since sets do not have indices, they are not ordered and do not have specific positions\n",
        "\n",
        "* **Unchangeable but mutable**: Elements inside a set **CANNOT** be changed but can be added or removed\n",
        "\n",
        "* **No duplicates**: Sets do not allow duplicates of any data value to be stored within the same set"
      ],
      "metadata": {
        "id": "I4QYN5W-TdFe"
      }
    },
    {
      "cell_type": "code",
      "source": [
        "# Checking the length of the set\n",
        "\n",
        "len(set_colors)"
      ],
      "metadata": {
        "colab": {
          "base_uri": "https://localhost:8080/"
        },
        "outputId": "cb4a7787-4c3b-416c-b20e-2c601814692f",
        "id": "u1IR4rRATdFf"
      },
      "execution_count": null,
      "outputs": [
        {
          "output_type": "execute_result",
          "data": {
            "text/plain": [
              "5"
            ]
          },
          "metadata": {},
          "execution_count": 70
        }
      ]
    },
    {
      "cell_type": "code",
      "source": [
        "# Can contain different data types, except sets,lists, dict and tuples\n",
        "\n",
        "nested_set = {'Earth', 23, True, 56.5}\n",
        "\n",
        "for x in nested_set:\n",
        "  print(x, ' = ',type(x))"
      ],
      "metadata": {
        "colab": {
          "base_uri": "https://localhost:8080/"
        },
        "outputId": "5bfaff86-b66c-4dbb-c35b-c592cf92e04f",
        "id": "uaL8k85HTdFf"
      },
      "execution_count": null,
      "outputs": [
        {
          "output_type": "stream",
          "name": "stdout",
          "text": [
            "56.5  =  <class 'float'>\n",
            "True  =  <class 'bool'>\n",
            "Earth  =  <class 'str'>\n",
            "23  =  <class 'int'>\n"
          ]
        }
      ]
    },
    {
      "cell_type": "markdown",
      "source": [
        "## Dictionaries"
      ],
      "metadata": {
        "id": "6SZA6VLuNFRG"
      }
    },
    {
      "cell_type": "markdown",
      "source": [
        "Dictionaries are data types that store multiple elements of any data type with a key:value pair within a variable. They are created with **curly brackets** but with a **colon** betweent the key:value pair.\n",
        "\n",
        "<img src='https://programmathically.com/wp-content/uploads/2021/05/dictionary-1024x554.png' width=600>"
      ],
      "metadata": {
        "id": "1tPAgR_bWOuG"
      }
    },
    {
      "cell_type": "code",
      "source": [
        "# Example of a dictionary\n",
        "\n",
        "dict_student = {'Name':'Ryan', 'DOB': 1990, 'Height': 1.8, 'Unit': 'm', 'Height': 1.7}\n",
        "print(dict_student)\n",
        "type(dict_student)"
      ],
      "metadata": {
        "colab": {
          "base_uri": "https://localhost:8080/"
        },
        "outputId": "8700abb8-2960-411f-93e8-903a2aa813aa",
        "id": "7zLNpVNYWOuH"
      },
      "execution_count": null,
      "outputs": [
        {
          "output_type": "stream",
          "name": "stdout",
          "text": [
            "{'Name': 'Ryan', 'DOB': 1990, 'Height': 1.7, 'Unit': 'm'}\n"
          ]
        },
        {
          "output_type": "execute_result",
          "data": {
            "text/plain": [
              "dict"
            ]
          },
          "metadata": {},
          "execution_count": 91
        }
      ]
    },
    {
      "cell_type": "markdown",
      "source": [
        "They have the following properties that discern them between the 4 data types that used to store multiple elements of data:\n",
        "\n",
        "* **Indexed**: Dictionaries are defined with keys to each value, so they have user defined indices.\n",
        "\n",
        "* **Ordered** : Dictionaries are ordered in Python version 3.7 above, but unordered for Python 3.6 and earlier.\n",
        "\n",
        "* **Mutable**: Elements inside a dictionary can be changed, added or removed\n",
        "\n",
        "* **No duplicates**: Dictionary do not allow duplicates of any key value to be stored within the same dictionary. Any proceeding duplicates will overwrite the previous value *(refer above to how height was overwritten from 1.8 to 1.7)*"
      ],
      "metadata": {
        "id": "iNhjvTX9WOuI"
      }
    },
    {
      "cell_type": "code",
      "source": [
        "# Checking position of each element with a loop\n",
        "\n",
        "counter = 0\n",
        "\n",
        "for x in dict_student:\n",
        "  print(counter, x, dict_student[x])\n",
        "  counter += 1"
      ],
      "metadata": {
        "colab": {
          "base_uri": "https://localhost:8080/"
        },
        "outputId": "5b706c61-5f14-45da-d1c4-8a49d73b469c",
        "id": "GisWYAIHXM-O"
      },
      "execution_count": null,
      "outputs": [
        {
          "output_type": "stream",
          "name": "stdout",
          "text": [
            "0 Name Ryan\n",
            "1 DOB 1990\n",
            "2 Height 1.7\n",
            "3 Unit m\n"
          ]
        }
      ]
    },
    {
      "cell_type": "code",
      "source": [
        "# Checking the length of the dictionary\n",
        "len(dict_student)"
      ],
      "metadata": {
        "colab": {
          "base_uri": "https://localhost:8080/"
        },
        "outputId": "84e53f8e-860b-40a0-d965-dc21e24a781e",
        "id": "C9rDg_yUWOuI"
      },
      "execution_count": null,
      "outputs": [
        {
          "output_type": "execute_result",
          "data": {
            "text/plain": [
              "4"
            ]
          },
          "metadata": {},
          "execution_count": 93
        }
      ]
    },
    {
      "cell_type": "code",
      "source": [
        "# Can contain different data types, except sets,lists, dict and tuples as keys\n",
        "\n",
        "nested_dict = {'First':'Earth', 2: 23, 'Third': True, 4: {'test',1}, True: {1:4,'Two':23}}\n",
        "\n",
        "for x in nested_dict:\n",
        "  print(x, '-', type(x))\n",
        "  print(nested_dict[x], ' = ', type(nested_dict[x]))\n",
        "  print('\\n')"
      ],
      "metadata": {
        "colab": {
          "base_uri": "https://localhost:8080/"
        },
        "outputId": "acda5ecc-390f-4352-af94-8d7f87900091",
        "id": "pSu1XbtkWOuI"
      },
      "execution_count": null,
      "outputs": [
        {
          "output_type": "stream",
          "name": "stdout",
          "text": [
            "First - <class 'str'>\n",
            "Earth  =  <class 'str'>\n",
            "\n",
            "\n",
            "2 - <class 'int'>\n",
            "23  =  <class 'int'>\n",
            "\n",
            "\n",
            "Third - <class 'str'>\n",
            "True  =  <class 'bool'>\n",
            "\n",
            "\n",
            "4 - <class 'int'>\n",
            "{1, 'test'}  =  <class 'set'>\n",
            "\n",
            "\n",
            "True - <class 'bool'>\n",
            "{1: 4, 'Two': 23}  =  <class 'dict'>\n",
            "\n",
            "\n"
          ]
        }
      ]
    },
    {
      "cell_type": "code",
      "source": [
        "# Retrieving individual element by key\n",
        "\n",
        "print(dict_student['Name'])\n",
        "type(dict_student['Name'])"
      ],
      "metadata": {
        "id": "Fonh0vRjNFGJ",
        "colab": {
          "base_uri": "https://localhost:8080/"
        },
        "outputId": "48b971d2-36e0-40ca-9133-0fccc92d8b23"
      },
      "execution_count": null,
      "outputs": [
        {
          "output_type": "stream",
          "name": "stdout",
          "text": [
            "Ryan\n"
          ]
        },
        {
          "output_type": "execute_result",
          "data": {
            "text/plain": [
              "str"
            ]
          },
          "metadata": {},
          "execution_count": 96
        }
      ]
    },
    {
      "cell_type": "markdown",
      "source": [
        "## Conditionals - If/Else"
      ],
      "metadata": {
        "id": "myp5kVyS4JKC"
      }
    },
    {
      "cell_type": "markdown",
      "source": [
        "If/Else statements are used to apply conditional processing of the code depending on the logical condition. \n",
        "Extending on the comparison operators, you can apply logical conditions in Python.\n",
        "\n",
        "\n"
      ],
      "metadata": {
        "id": "33-27sPl7irm"
      }
    },
    {
      "cell_type": "markdown",
      "source": [
        "| Operators   | Name     | Example |\n",
        "| ----------- | ----------- |------------ | \n",
        "| ==           | Equal      | x == y       |\n",
        "| !=          | Not equal      | x != y  | \n",
        "| >          | Greater than      | x > y   |\n",
        "| <          | Less than      | x < y   |\n",
        "| >=           | Greater than or equal to      | x >= y   |\n",
        "| <=          | Less than or equal to    | x <= y  |"
      ],
      "metadata": {
        "id": "MvNiIiA5_NIa"
      }
    },
    {
      "cell_type": "markdown",
      "source": [
        "Combining an if/else statement along with these comparison operators allows you to define how the code should flow."
      ],
      "metadata": {
        "id": "RE9j3mJt_Q-N"
      }
    },
    {
      "cell_type": "code",
      "source": [
        "# Testing an if/else statement\n",
        "\n",
        "num = 5\n",
        "\n",
        "if num > 10:\n",
        "  print(num, 'is greater than 10')\n",
        "else:\n",
        "  print(num, 'is lesser than 10')"
      ],
      "metadata": {
        "colab": {
          "base_uri": "https://localhost:8080/"
        },
        "id": "f4EFliU4_Y_t",
        "outputId": "7e0f81f0-31f7-4a01-998e-043fcc9db99b"
      },
      "execution_count": null,
      "outputs": [
        {
          "output_type": "stream",
          "name": "stdout",
          "text": [
            "5 is lesser than 10\n"
          ]
        }
      ]
    },
    {
      "cell_type": "code",
      "source": [
        "# If statements can also work by itself\n",
        "\n",
        "num = 5\n",
        "\n",
        "if num > 10:\n",
        "  print(num, 'is greater than 10')"
      ],
      "metadata": {
        "id": "nffIteqdAW6t"
      },
      "execution_count": null,
      "outputs": []
    },
    {
      "cell_type": "code",
      "source": [
        "# If statements can contain multiple pathways using elif (else if)\n",
        "# Try changing the value of num to see what prints out\n",
        "\n",
        "num = 7\n",
        "\n",
        "if num < 5:\n",
        "  print(num, 'is less than 5')\n",
        "elif num < 10:\n",
        "  print(num, 'is less than 10')\n",
        "else:\n",
        "  print(num, 'is greater than 10')"
      ],
      "metadata": {
        "colab": {
          "base_uri": "https://localhost:8080/"
        },
        "id": "XJ3M0JjcAxN3",
        "outputId": "4850e2a8-b10a-4f4d-b4c2-e36a9f722416"
      },
      "execution_count": null,
      "outputs": [
        {
          "output_type": "stream",
          "name": "stdout",
          "text": [
            "7 is less than 10\n"
          ]
        }
      ]
    },
    {
      "cell_type": "markdown",
      "source": [
        "**Practice** - Print the square of a number only if it is an even number"
      ],
      "metadata": {
        "id": "08MvM-vXxNCg"
      }
    },
    {
      "cell_type": "code",
      "source": [
        "# Hint: use the remainder operator\n",
        "is_even = 4%2 == 0\n",
        "print(is_even)"
      ],
      "metadata": {
        "id": "RIZlXeCGxozi"
      },
      "execution_count": null,
      "outputs": []
    },
    {
      "cell_type": "code",
      "source": [
        "input_number = 5\n",
        "\n",
        "# Write your code here\n",
        "if input_number%2 ==0:\n",
        "   print(input_number**2)\n",
        "else:\n",
        "  print(input_number, 'is not even')"
      ],
      "metadata": {
        "id": "yNaBvJ1SxVOr",
        "colab": {
          "base_uri": "https://localhost:8080/"
        },
        "outputId": "ea205a9b-9c24-4e9e-b704-7702638718b4"
      },
      "execution_count": null,
      "outputs": [
        {
          "output_type": "stream",
          "name": "stdout",
          "text": [
            "5 is not even\n"
          ]
        }
      ]
    },
    {
      "cell_type": "markdown",
      "source": [
        "## Loops"
      ],
      "metadata": {
        "id": "L5mAq8zJgrRv"
      }
    },
    {
      "cell_type": "markdown",
      "source": [
        "### For Loops"
      ],
      "metadata": {
        "id": "GlJPJtUJsHiG"
      }
    },
    {
      "cell_type": "markdown",
      "source": [
        "When working with a data type that has multiple elements in it (string, set, list, tuple, dictionary), you may have to perform a certain operation on each of the elements. `For` loops are used to iterate over the elements in a data sequence.\n",
        "\n",
        "<img src='https://pynative.com/wp-content/uploads/2021/06/for-loop-in-python.png' width=600>\n"
      ],
      "metadata": {
        "id": "RKuy7co3KdqS"
      }
    },
    {
      "cell_type": "code",
      "source": [
        "# Iterating over a sequence of elements in a list\n",
        "\n",
        "fruits = [24, 35, 22, 16, 26]\n",
        "\n",
        "for x in fruits:\n",
        "  print(x)"
      ],
      "metadata": {
        "colab": {
          "base_uri": "https://localhost:8080/"
        },
        "id": "kaD0Gxp9SJmE",
        "outputId": "962b1dcd-a2d6-4ff0-93a0-6254b589ef8c"
      },
      "execution_count": null,
      "outputs": [
        {
          "output_type": "stream",
          "name": "stdout",
          "text": [
            "24\n",
            "35\n",
            "22\n",
            "16\n",
            "26\n"
          ]
        }
      ]
    },
    {
      "cell_type": "code",
      "source": [
        "# Iterating over a sequence of elements in a dict\n",
        "\n",
        "shopping_list = {'milk': 2, 'eggs': 6, 'bread': 1, 'cheese': 2}\n",
        "\n",
        "# First Loop\n",
        "x = 'milk'\n",
        "print(shopping_list[x])\n",
        "# Second Loop\n",
        "x = 'eggs'\n",
        "print(shopping_list[x])\n",
        "# Third Loop\n",
        "x = 'bread'\n",
        "print(shopping_list[x])\n",
        "# Fourth Loop\n",
        "x = 'cheese'\n",
        "print(shopping_list[x])\n",
        "\n",
        "\n",
        "# OR just create a for-loop\n",
        "print('')\n",
        "print('Faster Way')\n",
        "for x in shopping_list:\n",
        "    print(shopping_list[x])"
      ],
      "metadata": {
        "colab": {
          "base_uri": "https://localhost:8080/"
        },
        "id": "aFEfB0xmTuna",
        "outputId": "9ea0d9f1-11be-417e-a3e0-8613e6acd50f"
      },
      "execution_count": null,
      "outputs": [
        {
          "output_type": "stream",
          "name": "stdout",
          "text": [
            "2\n",
            "6\n",
            "1\n",
            "2\n",
            "\n",
            "Faster Way\n",
            "2\n",
            "6\n",
            "1\n",
            "2\n"
          ]
        }
      ]
    },
    {
      "cell_type": "markdown",
      "source": [
        "`For` loops can also be used to repeat a certain piece of code for a user defined number of times using the `range()` function. \n",
        "\n",
        "The `range()` function returns a sequence of numbers, starting from 0 (default, can be changed), incremented by 1 (default, can be changed) and ends at a user specified value.\n",
        "\n",
        "Syntax = `range(start*, stop, increment*)`\n",
        "\n",
        " *= optional"
      ],
      "metadata": {
        "id": "nMTwCJUwRJ6L"
      }
    },
    {
      "cell_type": "code",
      "source": [
        "# Printing the elements generated by the range() function\n",
        "for num in range(8):\n",
        "  print(num)"
      ],
      "metadata": {
        "colab": {
          "base_uri": "https://localhost:8080/"
        },
        "id": "L7PBVCELWPAK",
        "outputId": "dfdba4cc-6f7f-4a30-b8c5-edf9f4af6c24"
      },
      "execution_count": null,
      "outputs": [
        {
          "output_type": "stream",
          "name": "stdout",
          "text": [
            "0\n",
            "1\n",
            "2\n",
            "3\n",
            "4\n",
            "5\n",
            "6\n",
            "7\n"
          ]
        }
      ]
    },
    {
      "cell_type": "code",
      "source": [
        "# Note that the number sequence is not inclusive of the end value\n",
        "\n",
        "for num in range(0,10,2):\n",
        "  print(num)"
      ],
      "metadata": {
        "colab": {
          "base_uri": "https://localhost:8080/"
        },
        "id": "tqmuPZxwfpO2",
        "outputId": "bd403e04-504f-4530-cea5-80911fe279b0"
      },
      "execution_count": null,
      "outputs": [
        {
          "output_type": "stream",
          "name": "stdout",
          "text": [
            "0\n",
            "2\n",
            "4\n",
            "6\n",
            "8\n"
          ]
        }
      ]
    },
    {
      "cell_type": "code",
      "source": [
        "# Repeating a piece of code with for loop\n",
        "\n",
        "for x in range(0,5):\n",
        "  print('This is loop', x)"
      ],
      "metadata": {
        "colab": {
          "base_uri": "https://localhost:8080/"
        },
        "id": "gxhatopaV20v",
        "outputId": "916f636e-cce8-421d-eea2-9746578bded2"
      },
      "execution_count": null,
      "outputs": [
        {
          "output_type": "stream",
          "name": "stdout",
          "text": [
            "This is loop 0\n",
            "This is loop 1\n",
            "This is loop 2\n",
            "This is loop 3\n",
            "This is loop 4\n"
          ]
        }
      ]
    },
    {
      "cell_type": "code",
      "source": [
        "list_of_numbers = [5, 2, 56, 22]\n",
        "\n",
        "# I want to multiply every number in this list by 2.\n",
        "\n",
        "list_of_numbers[0] = list_of_numbers[0] * 2\n",
        "list_of_numbers[1] = list_of_numbers[1] * 2\n",
        "list_of_numbers[2] = list_of_numbers[2] * 2\n",
        "list_of_numbers[3] = list_of_numbers[3] * 2\n",
        "\n",
        "print(list_of_numbers)"
      ],
      "metadata": {
        "colab": {
          "base_uri": "https://localhost:8080/"
        },
        "id": "X350CkmFefeF",
        "outputId": "1f495112-8607-4312-9c4b-994d0093324b"
      },
      "execution_count": null,
      "outputs": [
        {
          "output_type": "stream",
          "name": "stdout",
          "text": [
            "[10, 4, 112, 44]\n"
          ]
        }
      ]
    },
    {
      "cell_type": "code",
      "source": [
        "list_of_numbers = [5, 2, 56, 22]\n",
        "\n",
        "# I want to multiply every number in this list by 2.\n",
        "\n",
        "for num in range(0, 4):\n",
        "    list_of_numbers[num] = list_of_numbers[num] * 2\n",
        "\n",
        "print(list_of_numbers)"
      ],
      "metadata": {
        "colab": {
          "base_uri": "https://localhost:8080/"
        },
        "id": "tnoZTPYxextV",
        "outputId": "c996ac96-88ea-4826-b90a-dda03c05531f"
      },
      "execution_count": null,
      "outputs": [
        {
          "output_type": "stream",
          "name": "stdout",
          "text": [
            "[10, 4, 112, 44]\n"
          ]
        }
      ]
    },
    {
      "cell_type": "markdown",
      "source": [
        "\n",
        "### While Loops (Optional)"
      ],
      "metadata": {
        "id": "u0rWNDDC4Ljq"
      }
    },
    {
      "cell_type": "markdown",
      "source": [
        "The `while` loop is another type of loop that allows a certain piece of code to be repeated as long as a specified condition is `True`. Using a combination of comparison operators and boolean logic, a piece of code will keep repeating as long as the condition is not `False`. \n",
        "\n",
        "**Keep in mind that this may lead to an infinite loop (the loop keeps on repeating) unless the condition is changed to `False` within the code or the `break` statement is used.** "
      ],
      "metadata": {
        "id": "kM6HK6jHdvj1"
      }
    },
    {
      "cell_type": "code",
      "source": [
        "# Example of a while loop\n",
        "\n",
        "counter = 0\n",
        "\n",
        "while counter < 5:\n",
        "  print(counter)\n",
        "  counter += 1"
      ],
      "metadata": {
        "colab": {
          "base_uri": "https://localhost:8080/"
        },
        "id": "QqvibpoyGEw3",
        "outputId": "9328b4a2-1998-4f90-eb5d-7d7c3db966bc"
      },
      "execution_count": null,
      "outputs": [
        {
          "output_type": "stream",
          "name": "stdout",
          "text": [
            "0\n",
            "1\n",
            "2\n",
            "3\n",
            "4\n"
          ]
        }
      ]
    },
    {
      "cell_type": "code",
      "source": [
        "# If the counter is not incremented each loop, the condition stays True and code goes into an infinite loop\n",
        "# In case you have run this, you can click the stop button to stop execution\n",
        "\n",
        "counter = 0\n",
        "\n",
        "while counter < 5:\n",
        "  print(counter)"
      ],
      "metadata": {
        "id": "UUc4soEPGRbo"
      },
      "execution_count": null,
      "outputs": []
    },
    {
      "cell_type": "markdown",
      "source": [
        "### Break (Optional)"
      ],
      "metadata": {
        "id": "mBiU3IeZGzeK"
      }
    },
    {
      "cell_type": "markdown",
      "source": [
        "The `break` statement can be used to exit a loop."
      ],
      "metadata": {
        "id": "OqtnisvTG4XE"
      }
    },
    {
      "cell_type": "code",
      "source": [
        "# Breaking from a for loop example\n",
        "\n",
        "planets = ['Mercury', 'Venus', 'Earth', 'Mars']\n",
        "\n",
        "for x in planets:\n",
        "  if x == 'Earth':   # If the value of x is Earth then...\n",
        "    break            # ... break the loop\n",
        "  print(x)"
      ],
      "metadata": {
        "colab": {
          "base_uri": "https://localhost:8080/"
        },
        "id": "Mtjok8bJGuTJ",
        "outputId": "144bc001-d633-4e4b-e745-12ae2c965263"
      },
      "execution_count": null,
      "outputs": [
        {
          "output_type": "stream",
          "name": "stdout",
          "text": [
            "Mercury\n",
            "Venus\n"
          ]
        }
      ]
    },
    {
      "cell_type": "code",
      "source": [
        "# Breaking from a while loop example\n",
        "\n",
        "planets = ['Mercury', 'Venus', 'Earth', 'Mars']\n",
        "\n",
        "index = 0\n",
        "\n",
        "while index < len(planets):         # While index value is less than length of planets list...\n",
        "  if planets[index] == 'Earth':     # ...if data in planet[index] is Earth...\n",
        "    break                           # ... then break the loop\n",
        "  print(planets[index])\n",
        "  index += 1"
      ],
      "metadata": {
        "colab": {
          "base_uri": "https://localhost:8080/"
        },
        "id": "N3qti3K1H2JM",
        "outputId": "b2cec3bd-8861-4797-9d3a-6fac41400ef1"
      },
      "execution_count": null,
      "outputs": [
        {
          "output_type": "stream",
          "name": "stdout",
          "text": [
            "Mercury\n",
            "Venus\n"
          ]
        }
      ]
    },
    {
      "cell_type": "markdown",
      "source": [
        "### Continue (Optional)"
      ],
      "metadata": {
        "id": "viD2-lKBJDD4"
      }
    },
    {
      "cell_type": "markdown",
      "source": [
        "The `continue` statement can be used to skip the current iteration of the loop and move to the next. It is different from the `break` statement which exits the loop entirely."
      ],
      "metadata": {
        "id": "d1pYjYZCJ-E1"
      }
    },
    {
      "cell_type": "code",
      "source": [
        "# Continue in a for loop example\n",
        "\n",
        "planets = ['Mercury', 'Venus', 'Earth', 'Mars']\n",
        "\n",
        "for x in planets:\n",
        "  if x == 'Earth':   # If the value of x is Earth then...\n",
        "    continue         # ... skip the current iteration from this point\n",
        "  print(x)"
      ],
      "metadata": {
        "colab": {
          "base_uri": "https://localhost:8080/"
        },
        "id": "uCCiq5AGKox0",
        "outputId": "c1fb96df-3a24-417e-ff14-3380d49be008"
      },
      "execution_count": null,
      "outputs": [
        {
          "output_type": "stream",
          "name": "stdout",
          "text": [
            "Mercury\n",
            "Venus\n",
            "Mars\n"
          ]
        }
      ]
    },
    {
      "cell_type": "code",
      "source": [
        "# Continue in a while loop example\n",
        "\n",
        "counter = 0\n",
        "\n",
        "while counter < 10:\n",
        "  counter += 1\n",
        "  if counter == 4:    # If the value of counter is 4 then...\n",
        "    continue          # ... skip the current iteration from this point\n",
        "  print(counter)"
      ],
      "metadata": {
        "colab": {
          "base_uri": "https://localhost:8080/"
        },
        "id": "dBvGErOnKpNw",
        "outputId": "7a66e419-cb5d-4e34-c69f-92e2ba0c5e17"
      },
      "execution_count": null,
      "outputs": [
        {
          "output_type": "stream",
          "name": "stdout",
          "text": [
            "1\n",
            "2\n",
            "3\n",
            "5\n",
            "6\n",
            "7\n",
            "8\n",
            "9\n",
            "10\n"
          ]
        }
      ]
    },
    {
      "cell_type": "markdown",
      "source": [
        "## Functions"
      ],
      "metadata": {
        "id": "oDdxdlDen7t_"
      }
    },
    {
      "cell_type": "markdown",
      "source": [
        "A function is a block of code that runs only when it is called. If you have a piece of code that will be reused many times, you can define it as a function and call the function instead of retyping the code everytime you want to use it."
      ],
      "metadata": {
        "id": "xPG6x4jgn9hx"
      }
    },
    {
      "cell_type": "code",
      "source": [
        "# Adding two numbers and printing without function\n",
        "\n",
        "a = 5\n",
        "b = 10\n",
        "\n",
        "sum = a + b\n",
        "print('The sum is', sum)\n",
        "\n",
        "a = 10\n",
        "b = 20\n",
        "\n",
        "sum = a + b\n",
        "print('The sum is', sum)"
      ],
      "metadata": {
        "colab": {
          "base_uri": "https://localhost:8080/"
        },
        "id": "OAz47suZoueL",
        "outputId": "7b7edd18-05c7-47fb-8cad-f9f40052fecc"
      },
      "execution_count": null,
      "outputs": [
        {
          "output_type": "stream",
          "name": "stdout",
          "text": [
            "The sum is 15\n",
            "The sum is 30\n"
          ]
        }
      ]
    },
    {
      "cell_type": "code",
      "source": [
        "# Defining a function to add two numbers and printing the sum\n",
        "\n",
        "def addition(num1, num2):\n",
        "  sum = num1 + num2\n",
        "  print('The sum is', sum)\n",
        "\n",
        "# Using the function\n",
        "\n",
        "a = 5\n",
        "b = 10\n",
        "\n",
        "addition(a,b)\n",
        "\n",
        "a = 10\n",
        "b = 20\n",
        "\n",
        "addition(a,b)\n"
      ],
      "metadata": {
        "colab": {
          "base_uri": "https://localhost:8080/"
        },
        "id": "dUKOipp0pTcv",
        "outputId": "5648dfff-e5ae-46b8-fae7-810059b8b46a"
      },
      "execution_count": null,
      "outputs": [
        {
          "output_type": "stream",
          "name": "stdout",
          "text": [
            "The sum is 15\n",
            "The sum is 30\n"
          ]
        }
      ]
    },
    {
      "cell_type": "code",
      "source": [
        "def some_function(input):\n",
        "    print(input)"
      ],
      "metadata": {
        "id": "6sOBS2ZNFKNB"
      },
      "execution_count": null,
      "outputs": []
    },
    {
      "cell_type": "markdown",
      "source": [
        "As you can see in the example above, we have used a function instead of having to type out the code again to add two numbers and printing it out. The use of functions may not be evident when it comes to a few lines of code but when it comes to writing a few hundred lines of code for a few hundred usages, you may imagine how tedious it can be.\n",
        "\n",
        "Functions allow ease of reuse of code without having to clutter up your code and standardize the contents of what a piece of code should contain.\n",
        "\n",
        "You have already been using functions as you started this notebook. Print(), type(), len(), range() are all examples of built-in functions in Python (please refer to the [documentation](https://docs.python.org/3/library/functions.html) for more details).\n"
      ],
      "metadata": {
        "id": "4epDl6o-p0Mr"
      }
    },
    {
      "cell_type": "markdown",
      "source": [
        "### Logic and structure of functions"
      ],
      "metadata": {
        "id": "LmPSO-zhq9uE"
      }
    },
    {
      "cell_type": "markdown",
      "source": [
        "Consider the following dummy function:"
      ],
      "metadata": {
        "id": "Kpfltu1qwlSO"
      }
    },
    {
      "cell_type": "code",
      "source": [
        "constant_value = 5\n",
        "\n",
        "def function_name(input1,input2):\n",
        "  \n",
        "  # Do something with input1 and input2\n",
        "  output = input1 + input2\n",
        "\n",
        "  return output"
      ],
      "metadata": {
        "id": "k3XXxyTvtB6w"
      },
      "execution_count": null,
      "outputs": []
    },
    {
      "cell_type": "markdown",
      "source": [
        "![Logic of functions](https://drive.google.com/uc?export=view&id=1uDHN983k6dGsd5WNsYQnZQC05HgSuRbF)\n"
      ],
      "metadata": {
        "id": "QQd83y_hvpMU"
      }
    },
    {
      "cell_type": "markdown",
      "source": [
        "**Functions may take in input variables/values, process any code within the function and output results.**"
      ],
      "metadata": {
        "id": "l3fPisPHwEei"
      }
    },
    {
      "cell_type": "markdown",
      "source": [
        "![Parts of functions](https://drive.google.com/uc?export=view&id=1bcpl9w1Gv4jUeG_cmmEQ6lb3U3fSzKix)\n"
      ],
      "metadata": {
        "id": "cmpboqmCv4pw"
      }
    },
    {
      "cell_type": "markdown",
      "source": [
        "### Process flow"
      ],
      "metadata": {
        "id": "KNsCGKYHOqBj"
      }
    },
    {
      "cell_type": "markdown",
      "source": [
        "When working with functions, there are two distinct phases to it. The first phase is to create or define the function with a name and code logic of what it will once executed. The second phase is to utilize the function by calling it. \n",
        "\n",
        "*Please note that the term 'phases' have been used here to distinguish between the creating a function and calling it.*\n",
        "\n",
        "When the function is defined, it is not executed. The definition of the function stores it in a file called a module, which can be imported as well. There are several advantages to using functions:\n",
        "* Functions can be re-used in other programs if you have imported it into other program files\n",
        "\n",
        "* It is easy to share the function modules without having to share the whole program\n",
        "\n",
        "* You can use functions that other people have written through importing function libraries (We will look into libraries further)\n"
      ],
      "metadata": {
        "id": "QEgjwvAsOuHN"
      }
    },
    {
      "cell_type": "markdown",
      "source": [
        "#### Creating a function"
      ],
      "metadata": {
        "id": "lSf3i-LjrBzd"
      }
    },
    {
      "cell_type": "code",
      "source": [
        "# Define a function that greets the input name\n",
        "\n",
        "student1 = 'John'\n",
        "\n",
        "def greet(name): \n",
        "  print(f'Hello there {name}!') #This is a f-string formatting\n"
      ],
      "metadata": {
        "id": "qRXJR5a5RCne"
      },
      "execution_count": null,
      "outputs": []
    },
    {
      "cell_type": "code",
      "source": [
        "def greet2(name): \n",
        "  return f'Hello there {name}!'"
      ],
      "metadata": {
        "id": "5OGD-SeAHnbX"
      },
      "execution_count": null,
      "outputs": []
    },
    {
      "cell_type": "markdown",
      "source": [
        "Notice how there is no printed output even though the function contains a print statement. **This is because the function is only being defined and retained in a module, not executed.**"
      ],
      "metadata": {
        "id": "6Usu6HNDS4iE"
      }
    },
    {
      "cell_type": "markdown",
      "source": [
        "#### Calling a function"
      ],
      "metadata": {
        "id": "5C7Hq_UQrEvS"
      }
    },
    {
      "cell_type": "markdown",
      "source": [
        "When a function has been defined or imported, it can now be called and executed. \n",
        "* Calling: Refers to the code that you type to retrieve the function\n",
        "* Executing: Running the code with the function in it to receive an output\n",
        "\n",
        "Functions are called by typing out the function name followed by parentheses. "
      ],
      "metadata": {
        "id": "vAzDTt3vQBAN"
      }
    },
    {
      "cell_type": "code",
      "source": [
        "# Calling the function and executing it\n",
        "\n",
        "student2 = 'Yahia'\n",
        "\n",
        "greet(student1)\n",
        "greet(student2)"
      ],
      "metadata": {
        "colab": {
          "base_uri": "https://localhost:8080/"
        },
        "id": "7p0brEr8TReW",
        "outputId": "9607ce8f-b4a6-4c81-b748-eca0646aeffe"
      },
      "execution_count": null,
      "outputs": [
        {
          "output_type": "stream",
          "name": "stdout",
          "text": [
            "Hello there John!\n",
            "Hello there Yahia!\n"
          ]
        }
      ]
    },
    {
      "cell_type": "code",
      "source": [
        "greeting_result_firstattempt = greet(student1)\n",
        "greeting_result_secondattempt = greet2(student1)\n",
        "\n",
        "print('Printing')\n",
        "print(greeting_result_firstattempt)\n",
        "print(greeting_result_secondattempt)"
      ],
      "metadata": {
        "colab": {
          "base_uri": "https://localhost:8080/"
        },
        "id": "IrVdMFa9Hx29",
        "outputId": "fd334c5f-f653-41c2-f436-bb5ace153db0"
      },
      "execution_count": null,
      "outputs": [
        {
          "output_type": "stream",
          "name": "stdout",
          "text": [
            "Hello there John!\n",
            "Printing\n",
            "None\n",
            "Hello there John!\n"
          ]
        }
      ]
    },
    {
      "cell_type": "markdown",
      "source": [
        "#### Passing arguments"
      ],
      "metadata": {
        "id": "gwk5T9o7rH9i"
      }
    },
    {
      "cell_type": "markdown",
      "source": [
        "Functions can work with external information by passing them as arguments to the parameters of a function. When defining a function, the number of parameters it accepts as input is also defined within the parentheses after the function name.\n",
        "\n",
        "```\n",
        "def sum(input1,input2):\n",
        "    output = input1 + input2\n",
        "    return output\n",
        "```\n",
        "In the example above, the function takes two arguments as input parameters.\n",
        "\n",
        "* **Parameter**: Variable in a function defintion, does not have any stored value\n",
        "\n",
        "* **Argument**: Value/variable passed while calling a function\n",
        "\n",
        "```\n",
        "a = 1\n",
        "b = 1\n",
        "\n",
        "sum(a,b)\n",
        "```\n",
        "\n",
        "We are passing *a* and *b* as arguments to the input parameter of the sum function. These arguments are then used by the function code to return an output."
      ],
      "metadata": {
        "id": "su86tfQcX6B7"
      }
    },
    {
      "cell_type": "markdown",
      "source": [
        "#### Returning vs printing **(Important)**"
      ],
      "metadata": {
        "id": "b1sQKKv-cxF-"
      }
    },
    {
      "cell_type": "markdown",
      "source": [
        "When we use the print() function, we are displaying the printed value on the Python console but does not store the data. This is different from the return value of a function. The return value of the function is the output of the function which can be used outside the function."
      ],
      "metadata": {
        "id": "yRgpToba02DG"
      }
    },
    {
      "cell_type": "code",
      "source": [
        "# Defining a function with print\n",
        "\n",
        "def print_test():\n",
        "  print(5)\n",
        "\n",
        "# Calling the function, adding 5 to it and assigning to a variable\n",
        "\n",
        "a = 5 + print_test()\n",
        "print(a)\n",
        "type(a)"
      ],
      "metadata": {
        "id": "dzfJx_Sm1O_c"
      },
      "execution_count": null,
      "outputs": []
    },
    {
      "cell_type": "markdown",
      "source": [
        "In the example above, you can see that even though the function is defined to print 5 when called, the printed value is of NoneType and not an int, as expected of the print() function."
      ],
      "metadata": {
        "id": "I97QYw9S15_9"
      }
    },
    {
      "cell_type": "code",
      "source": [
        "# Testing the data type of print values\n",
        "\n",
        "type(print('test'))"
      ],
      "metadata": {
        "colab": {
          "base_uri": "https://localhost:8080/"
        },
        "id": "cx4riLBP2QH8",
        "outputId": "ebb0b7a7-283c-460b-93a8-47e776ad29f4"
      },
      "execution_count": null,
      "outputs": [
        {
          "output_type": "stream",
          "name": "stdout",
          "text": [
            "test\n"
          ]
        },
        {
          "output_type": "execute_result",
          "data": {
            "text/plain": [
              "NoneType"
            ]
          },
          "metadata": {},
          "execution_count": 20
        }
      ]
    },
    {
      "cell_type": "markdown",
      "source": [
        "Return values are output values of functions that can be utilized outside the function. The return value type depends on the output value data type."
      ],
      "metadata": {
        "id": "0i0ZN7tN2TZZ"
      }
    },
    {
      "cell_type": "code",
      "source": [
        "def print_test():\n",
        "  return 10\n",
        "\n",
        "a = print_test()\n",
        "\n",
        "print(a)"
      ],
      "metadata": {
        "colab": {
          "base_uri": "https://localhost:8080/"
        },
        "id": "RWdAz1vkGL_d",
        "outputId": "450fa2df-a9a2-4f17-d9ee-0e0285f18d3f"
      },
      "execution_count": null,
      "outputs": [
        {
          "output_type": "stream",
          "name": "stdout",
          "text": [
            "10\n"
          ]
        }
      ]
    },
    {
      "cell_type": "code",
      "source": [
        "# Defining a function with return\n",
        "\n",
        "def print_test():\n",
        "  return 10\n",
        "\n",
        "# Calling the function, adding 5 to it and assigning to a variable\n",
        "\n",
        "a = 5 + print_test()\n",
        "print(a)\n",
        "type(a)"
      ],
      "metadata": {
        "colab": {
          "base_uri": "https://localhost:8080/"
        },
        "id": "85LuELVK1xfA",
        "outputId": "ebe0f5d0-0176-47c4-86a6-4a7d8c6ac3a8"
      },
      "execution_count": null,
      "outputs": [
        {
          "output_type": "stream",
          "name": "stdout",
          "text": [
            "15\n"
          ]
        },
        {
          "output_type": "execute_result",
          "data": {
            "text/plain": [
              "int"
            ]
          },
          "metadata": {},
          "execution_count": 18
        }
      ]
    },
    {
      "cell_type": "markdown",
      "source": [
        "#### Recursive functions (Optional)"
      ],
      "metadata": {
        "id": "sVY73eBp3dt_"
      }
    },
    {
      "cell_type": "markdown",
      "source": [
        "Return values can also be other functions that have been previously defined. Functions that call itself as a return value are called recursive functions."
      ],
      "metadata": {
        "id": "MbcT1BtV3NIN"
      }
    },
    {
      "cell_type": "code",
      "source": [
        "# Recursive function example\n",
        "\n",
        "def factorial(x):\n",
        "    \"\"\"This is a recursive function\n",
        "    to find the factorial of an integer\"\"\"\n",
        "\n",
        "    if x == 1:\n",
        "        return 1\n",
        "    else:\n",
        "        return (x * factorial(x-1))\n",
        "\n",
        "\n",
        "num = 3\n",
        "print(\"The factorial of\", num, \"is\", factorial(num))\n"
      ],
      "metadata": {
        "colab": {
          "base_uri": "https://localhost:8080/"
        },
        "id": "L2RmatFp3M1v",
        "outputId": "cb2f475c-e4ff-4c71-e507-06664611bf5f"
      },
      "execution_count": null,
      "outputs": [
        {
          "output_type": "stream",
          "name": "stdout",
          "text": [
            "The factorial of 3 is 6\n"
          ]
        }
      ]
    },
    {
      "cell_type": "markdown",
      "source": [
        "## Libraries\n",
        "\n",
        "We often talk about Python in terms of two things: the standard library and the ecosystem.\n",
        "\n",
        "\n",
        "### The Standard Library\n",
        "The Python standard library is also known as \"pure\" Python. It is the language maintained by the Python Software Foundation. When you install Python, it comes with \"standard\" things that we have learned so far. Things like lists, tuples, basic math, and some other things. These are collections of script modules that makes programming easy without having to write commonly used commands from scratch.\n",
        "\n",
        "### The Ecosystem\n",
        "Python's ecosystem is the reason it is popular in the data industry. When we talk about Python, we most often are talking about the \"Python Ecosystem\". The ecosystem is the standard library plus third-party open-source libraries. They are libraries, made by anyone around the world, that are like \"add-ons\" to Python that you can download and install for free.\n",
        "\n",
        "Python's ecosystem is so big (hundreds of thousands of third party libraries) that some groups of people organized them into websites where you can easily download and install third party libraries. They are below:\n",
        "\n",
        "- [Python Package Index (PyPI). Hundreds of thousands of libraries that do everything from mapping to stock trading](https://www.PyPi.org)\n",
        "- [Anaconda Distribution. This is Python + popular third party scientific libraries](https://www.anaconda.com/products/distribution)\n",
        "- [Conda](https://www.conda.io)"
      ],
      "metadata": {
        "id": "j4qxMv9LtEWP"
      }
    },
    {
      "cell_type": "markdown",
      "source": [
        "### Common Libraries\n",
        "- NumPy - for working with numbers\n",
        "- Pandas - for data analysis\n",
        "- Matplotlib - for making plots\n",
        "- Datetime - for working with dates\n",
        "- requests - for working with APIs\n",
        "- pdb - for debugging"
      ],
      "metadata": {
        "id": "taB2jxKgzEO7"
      }
    },
    {
      "cell_type": "markdown",
      "source": [
        "**Importing a Library**"
      ],
      "metadata": {
        "id": "RefbtJnhzd_d"
      }
    },
    {
      "cell_type": "code",
      "source": [
        "import numpy\n",
        "\n",
        "numpy.array([1, 2, 3])"
      ],
      "metadata": {
        "colab": {
          "base_uri": "https://localhost:8080/"
        },
        "id": "EPsa0tRRLHog",
        "outputId": "4df1518d-7023-48f8-b93f-237639060a76"
      },
      "execution_count": null,
      "outputs": [
        {
          "output_type": "execute_result",
          "data": {
            "text/plain": [
              "array([1, 2, 3])"
            ]
          },
          "metadata": {},
          "execution_count": 19
        }
      ]
    },
    {
      "cell_type": "code",
      "source": [
        "import numpy as np\n",
        "\n",
        "np.array([1, 2, 3, 4, 5])"
      ],
      "metadata": {
        "colab": {
          "base_uri": "https://localhost:8080/"
        },
        "id": "asJfcGGZza4-",
        "outputId": "98cb7766-37e0-4e9b-9e03-06673c9841e4"
      },
      "execution_count": null,
      "outputs": [
        {
          "output_type": "execute_result",
          "data": {
            "text/plain": [
              "array([1, 2, 3, 4, 5])"
            ]
          },
          "metadata": {},
          "execution_count": 20
        }
      ]
    },
    {
      "cell_type": "code",
      "source": [
        "import datetime as dt\n",
        "\n",
        "dt.datetime.now()"
      ],
      "metadata": {
        "colab": {
          "base_uri": "https://localhost:8080/"
        },
        "id": "WOcociGuzk3E",
        "outputId": "cf07e33b-f9c4-4e07-a2af-333cd6733b05"
      },
      "execution_count": null,
      "outputs": [
        {
          "output_type": "execute_result",
          "data": {
            "text/plain": [
              "datetime.datetime(2022, 7, 21, 23, 53, 18, 268873)"
            ]
          },
          "metadata": {},
          "execution_count": 21
        }
      ]
    },
    {
      "cell_type": "code",
      "source": [
        "import datetime as dt\n",
        "\n",
        "dt.date.today()"
      ],
      "metadata": {
        "colab": {
          "base_uri": "https://localhost:8080/"
        },
        "id": "1UWRUdXrL2RQ",
        "outputId": "bb2838f6-3f8f-4d4e-e25b-ae4098913a44"
      },
      "execution_count": null,
      "outputs": [
        {
          "output_type": "execute_result",
          "data": {
            "text/plain": [
              "datetime.date(2022, 7, 21)"
            ]
          },
          "metadata": {},
          "execution_count": 23
        }
      ]
    },
    {
      "cell_type": "markdown",
      "source": [
        "**Exercise** Find a library on [PyPI](https://www.pypi.org) that makes maps!"
      ],
      "metadata": {
        "id": "k5q2fS-W0huK"
      }
    },
    {
      "cell_type": "code",
      "source": [
        "import folium\n",
        "m = folium.Map(location=[45.5236, -122.6750])\n",
        "m"
      ],
      "metadata": {
        "colab": {
          "base_uri": "https://localhost:8080/",
          "height": 685
        },
        "id": "LHdpnsTVPM8E",
        "outputId": "39db83b8-f005-4c9a-b0d6-1d2fd1bf7e0e"
      },
      "execution_count": null,
      "outputs": [
        {
          "output_type": "execute_result",
          "data": {
            "text/plain": [
              "<folium.folium.Map at 0x7f525e450e50>"
            ],
            "text/html": [
              "<div style=\"width:100%;\"><div style=\"position:relative;width:100%;height:0;padding-bottom:60%;\"><span style=\"color:#565656\">Make this Notebook Trusted to load map: File -> Trust Notebook</span><iframe srcdoc=\"&lt;!DOCTYPE html&gt;\n",
              "&lt;head&gt;    \n",
              "    &lt;meta http-equiv=&quot;content-type&quot; content=&quot;text/html; charset=UTF-8&quot; /&gt;\n",
              "    &lt;script&gt;L_PREFER_CANVAS=false; L_NO_TOUCH=false; L_DISABLE_3D=false;&lt;/script&gt;\n",
              "    &lt;script src=&quot;https://cdn.jsdelivr.net/npm/leaflet@1.4.0/dist/leaflet.js&quot;&gt;&lt;/script&gt;\n",
              "    &lt;script src=&quot;https://code.jquery.com/jquery-1.12.4.min.js&quot;&gt;&lt;/script&gt;\n",
              "    &lt;script src=&quot;https://maxcdn.bootstrapcdn.com/bootstrap/3.2.0/js/bootstrap.min.js&quot;&gt;&lt;/script&gt;\n",
              "    &lt;script src=&quot;https://cdnjs.cloudflare.com/ajax/libs/Leaflet.awesome-markers/2.0.2/leaflet.awesome-markers.js&quot;&gt;&lt;/script&gt;\n",
              "    &lt;link rel=&quot;stylesheet&quot; href=&quot;https://cdn.jsdelivr.net/npm/leaflet@1.4.0/dist/leaflet.css&quot;/&gt;\n",
              "    &lt;link rel=&quot;stylesheet&quot; href=&quot;https://maxcdn.bootstrapcdn.com/bootstrap/3.2.0/css/bootstrap.min.css&quot;/&gt;\n",
              "    &lt;link rel=&quot;stylesheet&quot; href=&quot;https://maxcdn.bootstrapcdn.com/bootstrap/3.2.0/css/bootstrap-theme.min.css&quot;/&gt;\n",
              "    &lt;link rel=&quot;stylesheet&quot; href=&quot;https://maxcdn.bootstrapcdn.com/font-awesome/4.6.3/css/font-awesome.min.css&quot;/&gt;\n",
              "    &lt;link rel=&quot;stylesheet&quot; href=&quot;https://cdnjs.cloudflare.com/ajax/libs/Leaflet.awesome-markers/2.0.2/leaflet.awesome-markers.css&quot;/&gt;\n",
              "    &lt;link rel=&quot;stylesheet&quot; href=&quot;https://rawcdn.githack.com/python-visualization/folium/master/folium/templates/leaflet.awesome.rotate.css&quot;/&gt;\n",
              "    &lt;style&gt;html, body {width: 100%;height: 100%;margin: 0;padding: 0;}&lt;/style&gt;\n",
              "    &lt;style&gt;#map {position:absolute;top:0;bottom:0;right:0;left:0;}&lt;/style&gt;\n",
              "    \n",
              "    &lt;meta name=&quot;viewport&quot; content=&quot;width=device-width,\n",
              "        initial-scale=1.0, maximum-scale=1.0, user-scalable=no&quot; /&gt;\n",
              "    &lt;style&gt;#map_a9b9209f59a735227727520aea6e2d74 {\n",
              "        position: relative;\n",
              "        width: 100.0%;\n",
              "        height: 100.0%;\n",
              "        left: 0.0%;\n",
              "        top: 0.0%;\n",
              "        }\n",
              "    &lt;/style&gt;\n",
              "&lt;/head&gt;\n",
              "&lt;body&gt;    \n",
              "    \n",
              "    &lt;div class=&quot;folium-map&quot; id=&quot;map_a9b9209f59a735227727520aea6e2d74&quot; &gt;&lt;/div&gt;\n",
              "&lt;/body&gt;\n",
              "&lt;script&gt;    \n",
              "    \n",
              "    \n",
              "        var bounds = null;\n",
              "    \n",
              "\n",
              "    var map_a9b9209f59a735227727520aea6e2d74 = L.map(\n",
              "        &#x27;map_a9b9209f59a735227727520aea6e2d74&#x27;, {\n",
              "        center: [45.5236, -122.675],\n",
              "        zoom: 10,\n",
              "        maxBounds: bounds,\n",
              "        layers: [],\n",
              "        worldCopyJump: false,\n",
              "        crs: L.CRS.EPSG3857,\n",
              "        zoomControl: true,\n",
              "        });\n",
              "\n",
              "\n",
              "    \n",
              "    var tile_layer_402f29a79acdb7fcf41a61f3f519305b = L.tileLayer(\n",
              "        &#x27;https://{s}.tile.openstreetmap.org/{z}/{x}/{y}.png&#x27;,\n",
              "        {\n",
              "        &quot;attribution&quot;: null,\n",
              "        &quot;detectRetina&quot;: false,\n",
              "        &quot;maxNativeZoom&quot;: 18,\n",
              "        &quot;maxZoom&quot;: 18,\n",
              "        &quot;minZoom&quot;: 0,\n",
              "        &quot;noWrap&quot;: false,\n",
              "        &quot;opacity&quot;: 1,\n",
              "        &quot;subdomains&quot;: &quot;abc&quot;,\n",
              "        &quot;tms&quot;: false\n",
              "}).addTo(map_a9b9209f59a735227727520aea6e2d74);\n",
              "&lt;/script&gt;\" style=\"position:absolute;width:100%;height:100%;left:0;top:0;border:none !important;\" allowfullscreen webkitallowfullscreen mozallowfullscreen></iframe></div></div>"
            ]
          },
          "metadata": {},
          "execution_count": 31
        }
      ]
    },
    {
      "cell_type": "markdown",
      "source": [
        "## Resources\n",
        "- The world's most popular Python podcast: [Talk Python to Me](https://talkpython.fm)\n",
        "- The definitive book on Pandas: [Python for Data Analysis](https://wesmckinney.com/book/)\n",
        "- The BEST Introduction to Applied Statistics: [StatQuest - Joshua Starmer](https://www.youtube.com/playlist?list=PLblh5JKOoLUK0FLuzwntyYI10UQFUhsY9)\n",
        "- How to Run Python on your local computer: "
      ],
      "metadata": {
        "id": "KIDznaIF9OAi"
      }
    },
    {
      "cell_type": "code",
      "source": [],
      "metadata": {
        "id": "Wu9L1V6T9MpD"
      },
      "execution_count": null,
      "outputs": []
    }
  ]
}